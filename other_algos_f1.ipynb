{
 "cells": [
  {
   "cell_type": "code",
   "execution_count": 5,
   "metadata": {},
   "outputs": [],
   "source": [
    "import pandas as pd\n",
    "import numpy as np\n",
    "import matplotlib.pyplot as plt\n",
    "import matplotlib as mpl\n",
    "\n",
    "import sklearn\n",
    "\n",
    "from sklearn.preprocessing import scale\n",
    "from sklearn.preprocessing import OneHotEncoder\n",
    "from sklearn.preprocessing import LabelEncoder\n",
    "\n",
    "import sklearn.preprocessing\n",
    "\n",
    "from sklearn.model_selection import train_test_split\n",
    "from sklearn import model_selection\n",
    "from sklearn import metrics\n",
    "\n",
    "mpl.rcParams['font.family'] = \"serif\"\n",
    "mpl.rcParams['text.usetex'] = True\n",
    "mpl.rcParams['ytick.right'] = True\n",
    "mpl.rcParams['ytick.direction'] = \"in\"\n",
    "mpl.rcParams['xtick.top'] = True\n",
    "mpl.rcParams['xtick.direction'] = \"in\"\n",
    "mpl.rcParams['axes.titlesize'] = 20\n",
    "mpl.rcParams['axes.labelsize'] = 20\n",
    "mpl.rcParams['xtick.labelsize'] = 16\n",
    "mpl.rcParams['ytick.labelsize'] = 16\n",
    "mpl.rcParams['legend.fontsize'] = 20\n",
    "mpl.rcParams['figure.dpi'] = 100\n",
    "mpl.rcParams['savefig.dpi'] = 100\n",
    "mpl.rcParams['figure.figsize'] = (6,4)\n",
    "plt.rcParams['axes.labelweight'] = 'bold'\n",
    "mpl.rcParams['text.latex.preamble']=[r\"\\usepackage{amsmath}\"]    \n",
    "\n",
    "def y_by_x(self, y, x, width=1):\n",
    "    ''' Group dataframe values y by values x binned by width. Default binning of x is 1.\n",
    "    x and y can be column names or transformations interpretable by the eval method.  \n",
    "    '''\n",
    "    grps = self.eval(x).apply(lambda t: int(t/float(width))*float(width) if not pd.isna(t) else t) \n",
    "    values = self.eval(y)\n",
    "    return values.groupby(grps)\n",
    "\n",
    "pd.DataFrame.y_by_x = y_by_x\n",
    "\n",
    "def plot_pd_series(series, **kwargs):\n",
    "    plt.plot(series.index, series.values, **kwargs, marker='o')\n",
    "    \n",
    "def find_nearest_idx(array, value):\n",
    "    array = np.asarray(array)\n",
    "    idx = (np.abs(array - value)).argmin()\n",
    "    return idx"
   ]
  },
  {
   "cell_type": "code",
   "execution_count": 6,
   "metadata": {},
   "outputs": [
    {
     "name": "stderr",
     "output_type": "stream",
     "text": [
      "/Library/Frameworks/Python.framework/Versions/3.7/lib/python3.7/site-packages/IPython/core/interactiveshell.py:3049: DtypeWarning: Columns (104,113,122) have mixed types. Specify dtype option on import or set low_memory=False.\n",
      "  interactivity=interactivity, compiler=compiler, result=result)\n"
     ]
    }
   ],
   "source": [
    "injs = pd.read_csv('inj_data_final.csv')\n",
    "injs.drop(columns=['Unnamed: 0','Opp','Team'],inplace=True)"
   ]
  },
  {
   "cell_type": "code",
   "execution_count": 7,
   "metadata": {},
   "outputs": [],
   "source": [
    "enc = OneHotEncoder(sparse=False)\n",
    "vals = enc.fit_transform(injs[['Position','Pos3','Shoots']])\n",
    "cols = []\n",
    "for cat in enc.categories_:\n",
    "    cols = np.concatenate((cols,cat))\n",
    "oneHot_cols = pd.DataFrame(vals,columns=cols)\n",
    "injs = pd.concat((injs,oneHot_cols),axis=1)\n",
    "injs.fillna(value=0,inplace=True) #Fill NaNs with 0\n",
    "injs = injs.loc[injs['Name']!=0]"
   ]
  },
  {
   "cell_type": "code",
   "execution_count": 8,
   "metadata": {},
   "outputs": [],
   "source": [
    "col_dict = {}\n",
    "col_dict['Was_Injured?'] = 'Was_Injured'\n",
    "\n",
    "for c in injs.columns:\n",
    "    strng = c.replace(' ','_')\n",
    "    strng = strng.replace('.','')\n",
    "    strng = strng.replace('%','_per')\n",
    "    if strng != c:\n",
    "        col_dict[c] = strng\n",
    "\n",
    "injs.rename(columns=col_dict,inplace=True)    "
   ]
  },
  {
   "cell_type": "code",
   "execution_count": 9,
   "metadata": {},
   "outputs": [],
   "source": [
    "injs.drop(columns=['Position','Pos3','Shoots'],inplace=True)"
   ]
  },
  {
   "cell_type": "code",
   "execution_count": 10,
   "metadata": {},
   "outputs": [],
   "source": [
    "from sklearn.tree import DecisionTreeClassifier"
   ]
  },
  {
   "cell_type": "code",
   "execution_count": 7,
   "metadata": {},
   "outputs": [
    {
     "data": {
      "text/plain": [
       "DecisionTreeClassifier()"
      ]
     },
     "execution_count": 7,
     "metadata": {},
     "output_type": "execute_result"
    }
   ],
   "source": [
    "y = injs['Was_Injured']\n",
    "X = injs.drop(columns=['Was_Injured','Dist_Feet_Av_7','Dist_Feet_Av_14','Dist_Feet_Av_21','Date','Name'])\n",
    "\n",
    "X_train, X_test, y_train, y_test = train_test_split(X, y, test_size=0.25)\n",
    "\n",
    "clf = DecisionTreeClassifier()\n",
    "clf.fit(X_train,y_train)"
   ]
  },
  {
   "cell_type": "code",
   "execution_count": 9,
   "metadata": {},
   "outputs": [],
   "source": [
    "predicted = clf.predict(X_test)"
   ]
  },
  {
   "cell_type": "code",
   "execution_count": 10,
   "metadata": {},
   "outputs": [
    {
     "name": "stdout",
     "output_type": "stream",
     "text": [
      "0.936816159672959\n",
      "              precision    recall  f1-score   support\n",
      "\n",
      "         0.0       0.97      0.96      0.97     32319\n",
      "         1.0       0.05      0.06      0.05       949\n",
      "\n",
      "    accuracy                           0.94     33268\n",
      "   macro avg       0.51      0.51      0.51     33268\n",
      "weighted avg       0.95      0.94      0.94     33268\n",
      "\n",
      "[[31108  1211]\n",
      " [  891    58]]\n",
      "0.05229936880072137\n"
     ]
    }
   ],
   "source": [
    "print(metrics.accuracy_score(y_test, predicted))\n",
    "print(metrics.classification_report(y_test, predicted))\n",
    "\n",
    "cm = metrics.confusion_matrix(y_test,predicted)\n",
    "print(cm)\n",
    "\n",
    "print(metrics.f1_score(y_test, predicted))"
   ]
  },
  {
   "cell_type": "code",
   "execution_count": 11,
   "metadata": {},
   "outputs": [],
   "source": [
    "coeffs = pd.DataFrame(zip(X.columns, np.transpose(clf.feature_importances_)))\n",
    "sort_df = coeffs.loc[coeffs[1].abs().argsort()[::-1]].reset_index()"
   ]
  },
  {
   "cell_type": "code",
   "execution_count": 12,
   "metadata": {},
   "outputs": [
    {
     "data": {
      "text/html": [
       "<div>\n",
       "<style scoped>\n",
       "    .dataframe tbody tr th:only-of-type {\n",
       "        vertical-align: middle;\n",
       "    }\n",
       "\n",
       "    .dataframe tbody tr th {\n",
       "        vertical-align: top;\n",
       "    }\n",
       "\n",
       "    .dataframe thead th {\n",
       "        text-align: right;\n",
       "    }\n",
       "</style>\n",
       "<table border=\"1\" class=\"dataframe\">\n",
       "  <thead>\n",
       "    <tr style=\"text-align: right;\">\n",
       "      <th></th>\n",
       "      <th>index</th>\n",
       "      <th>0</th>\n",
       "      <th>1</th>\n",
       "    </tr>\n",
       "  </thead>\n",
       "  <tbody>\n",
       "    <tr>\n",
       "      <th>0</th>\n",
       "      <td>2</td>\n",
       "      <td>Age</td>\n",
       "      <td>0.027593</td>\n",
       "    </tr>\n",
       "    <tr>\n",
       "      <th>1</th>\n",
       "      <td>45</td>\n",
       "      <td>+/-_Av14</td>\n",
       "      <td>0.021291</td>\n",
       "    </tr>\n",
       "    <tr>\n",
       "      <th>2</th>\n",
       "      <td>67</td>\n",
       "      <td>+/-_Av21</td>\n",
       "      <td>0.018547</td>\n",
       "    </tr>\n",
       "    <tr>\n",
       "      <th>3</th>\n",
       "      <td>6</td>\n",
       "      <td>FG_per_Av7</td>\n",
       "      <td>0.016522</td>\n",
       "    </tr>\n",
       "    <tr>\n",
       "      <th>4</th>\n",
       "      <td>60</td>\n",
       "      <td>AST_Av21</td>\n",
       "      <td>0.015824</td>\n",
       "    </tr>\n",
       "    <tr>\n",
       "      <th>5</th>\n",
       "      <td>61</td>\n",
       "      <td>STL_Av21</td>\n",
       "      <td>0.015578</td>\n",
       "    </tr>\n",
       "    <tr>\n",
       "      <th>6</th>\n",
       "      <td>16</td>\n",
       "      <td>AST_Av7</td>\n",
       "      <td>0.015432</td>\n",
       "    </tr>\n",
       "    <tr>\n",
       "      <th>7</th>\n",
       "      <td>3</td>\n",
       "      <td>MP_Av7</td>\n",
       "      <td>0.014858</td>\n",
       "    </tr>\n",
       "    <tr>\n",
       "      <th>8</th>\n",
       "      <td>28</td>\n",
       "      <td>FG_per_Av14</td>\n",
       "      <td>0.014438</td>\n",
       "    </tr>\n",
       "    <tr>\n",
       "      <th>9</th>\n",
       "      <td>92</td>\n",
       "      <td>ann_inj_rate</td>\n",
       "      <td>0.014321</td>\n",
       "    </tr>\n",
       "    <tr>\n",
       "      <th>10</th>\n",
       "      <td>23</td>\n",
       "      <td>+/-_Av7</td>\n",
       "      <td>0.014001</td>\n",
       "    </tr>\n",
       "    <tr>\n",
       "      <th>11</th>\n",
       "      <td>63</td>\n",
       "      <td>TOV_Av21</td>\n",
       "      <td>0.013772</td>\n",
       "    </tr>\n",
       "    <tr>\n",
       "      <th>12</th>\n",
       "      <td>116</td>\n",
       "      <td>Avg_Speed_Def_Av_21</td>\n",
       "      <td>0.013594</td>\n",
       "    </tr>\n",
       "    <tr>\n",
       "      <th>13</th>\n",
       "      <td>22</td>\n",
       "      <td>GmSc_Av7</td>\n",
       "      <td>0.013538</td>\n",
       "    </tr>\n",
       "    <tr>\n",
       "      <th>14</th>\n",
       "      <td>38</td>\n",
       "      <td>AST_Av14</td>\n",
       "      <td>0.013296</td>\n",
       "    </tr>\n",
       "    <tr>\n",
       "      <th>15</th>\n",
       "      <td>107</td>\n",
       "      <td>Avg_Speed_Off_Av_14</td>\n",
       "      <td>0.013109</td>\n",
       "    </tr>\n",
       "    <tr>\n",
       "      <th>16</th>\n",
       "      <td>50</td>\n",
       "      <td>FG_per_Av21</td>\n",
       "      <td>0.012952</td>\n",
       "    </tr>\n",
       "    <tr>\n",
       "      <th>17</th>\n",
       "      <td>49</td>\n",
       "      <td>FGA_Av21</td>\n",
       "      <td>0.012862</td>\n",
       "    </tr>\n",
       "    <tr>\n",
       "      <th>18</th>\n",
       "      <td>37</td>\n",
       "      <td>TRB_Av14</td>\n",
       "      <td>0.012629</td>\n",
       "    </tr>\n",
       "    <tr>\n",
       "      <th>19</th>\n",
       "      <td>100</td>\n",
       "      <td>Avg_Speed_Def_Av_7</td>\n",
       "      <td>0.012564</td>\n",
       "    </tr>\n",
       "    <tr>\n",
       "      <th>20</th>\n",
       "      <td>115</td>\n",
       "      <td>Avg_Speed_Off_Av_21</td>\n",
       "      <td>0.012381</td>\n",
       "    </tr>\n",
       "    <tr>\n",
       "      <th>21</th>\n",
       "      <td>35</td>\n",
       "      <td>ORB_Av14</td>\n",
       "      <td>0.012370</td>\n",
       "    </tr>\n",
       "    <tr>\n",
       "      <th>22</th>\n",
       "      <td>64</td>\n",
       "      <td>PF_Av21</td>\n",
       "      <td>0.012252</td>\n",
       "    </tr>\n",
       "    <tr>\n",
       "      <th>23</th>\n",
       "      <td>47</td>\n",
       "      <td>MP_Av21</td>\n",
       "      <td>0.012170</td>\n",
       "    </tr>\n",
       "    <tr>\n",
       "      <th>24</th>\n",
       "      <td>57</td>\n",
       "      <td>ORB_Av21</td>\n",
       "      <td>0.011951</td>\n",
       "    </tr>\n",
       "    <tr>\n",
       "      <th>25</th>\n",
       "      <td>108</td>\n",
       "      <td>Avg_Speed_Def_Av_14</td>\n",
       "      <td>0.011799</td>\n",
       "    </tr>\n",
       "    <tr>\n",
       "      <th>26</th>\n",
       "      <td>66</td>\n",
       "      <td>GmSc_Av21</td>\n",
       "      <td>0.011757</td>\n",
       "    </tr>\n",
       "    <tr>\n",
       "      <th>27</th>\n",
       "      <td>15</td>\n",
       "      <td>TRB_Av7</td>\n",
       "      <td>0.011356</td>\n",
       "    </tr>\n",
       "    <tr>\n",
       "      <th>28</th>\n",
       "      <td>106</td>\n",
       "      <td>Avg_Speed_Av_14</td>\n",
       "      <td>0.011308</td>\n",
       "    </tr>\n",
       "    <tr>\n",
       "      <th>29</th>\n",
       "      <td>91</td>\n",
       "      <td>N_prev_injs</td>\n",
       "      <td>0.011238</td>\n",
       "    </tr>\n",
       "    <tr>\n",
       "      <th>...</th>\n",
       "      <td>...</td>\n",
       "      <td>...</td>\n",
       "      <td>...</td>\n",
       "    </tr>\n",
       "    <tr>\n",
       "      <th>108</th>\n",
       "      <td>83</td>\n",
       "      <td>STL_b2b</td>\n",
       "      <td>0.001802</td>\n",
       "    </tr>\n",
       "    <tr>\n",
       "      <th>109</th>\n",
       "      <td>87</td>\n",
       "      <td>PTS_b2b</td>\n",
       "      <td>0.001799</td>\n",
       "    </tr>\n",
       "    <tr>\n",
       "      <th>110</th>\n",
       "      <td>72</td>\n",
       "      <td>FG_per_b2b</td>\n",
       "      <td>0.001678</td>\n",
       "    </tr>\n",
       "    <tr>\n",
       "      <th>111</th>\n",
       "      <td>121</td>\n",
       "      <td>Point_Guard_and_Shooting_Guard</td>\n",
       "      <td>0.001391</td>\n",
       "    </tr>\n",
       "    <tr>\n",
       "      <th>112</th>\n",
       "      <td>123</td>\n",
       "      <td>Point_Guard_and_Small_Forward_and_Shooting_Guard</td>\n",
       "      <td>0.001281</td>\n",
       "    </tr>\n",
       "    <tr>\n",
       "      <th>113</th>\n",
       "      <td>85</td>\n",
       "      <td>TOV_b2b</td>\n",
       "      <td>0.001269</td>\n",
       "    </tr>\n",
       "    <tr>\n",
       "      <th>114</th>\n",
       "      <td>86</td>\n",
       "      <td>PF_b2b</td>\n",
       "      <td>0.001266</td>\n",
       "    </tr>\n",
       "    <tr>\n",
       "      <th>115</th>\n",
       "      <td>134</td>\n",
       "      <td>Wing</td>\n",
       "      <td>0.001142</td>\n",
       "    </tr>\n",
       "    <tr>\n",
       "      <th>116</th>\n",
       "      <td>80</td>\n",
       "      <td>DRB_b2b</td>\n",
       "      <td>0.001110</td>\n",
       "    </tr>\n",
       "    <tr>\n",
       "      <th>117</th>\n",
       "      <td>135</td>\n",
       "      <td>Left</td>\n",
       "      <td>0.001099</td>\n",
       "    </tr>\n",
       "    <tr>\n",
       "      <th>118</th>\n",
       "      <td>130</td>\n",
       "      <td>Small_Forward</td>\n",
       "      <td>0.001085</td>\n",
       "    </tr>\n",
       "    <tr>\n",
       "      <th>119</th>\n",
       "      <td>81</td>\n",
       "      <td>TRB_b2b</td>\n",
       "      <td>0.001077</td>\n",
       "    </tr>\n",
       "    <tr>\n",
       "      <th>120</th>\n",
       "      <td>79</td>\n",
       "      <td>ORB_b2b</td>\n",
       "      <td>0.000983</td>\n",
       "    </tr>\n",
       "    <tr>\n",
       "      <th>121</th>\n",
       "      <td>74</td>\n",
       "      <td>3PA_b2b</td>\n",
       "      <td>0.000936</td>\n",
       "    </tr>\n",
       "    <tr>\n",
       "      <th>122</th>\n",
       "      <td>120</td>\n",
       "      <td>Point_Guard</td>\n",
       "      <td>0.000927</td>\n",
       "    </tr>\n",
       "    <tr>\n",
       "      <th>123</th>\n",
       "      <td>137</td>\n",
       "      <td>Right</td>\n",
       "      <td>0.000921</td>\n",
       "    </tr>\n",
       "    <tr>\n",
       "      <th>124</th>\n",
       "      <td>129</td>\n",
       "      <td>Shooting_Guard</td>\n",
       "      <td>0.000898</td>\n",
       "    </tr>\n",
       "    <tr>\n",
       "      <th>125</th>\n",
       "      <td>73</td>\n",
       "      <td>3P_b2b</td>\n",
       "      <td>0.000817</td>\n",
       "    </tr>\n",
       "    <tr>\n",
       "      <th>126</th>\n",
       "      <td>76</td>\n",
       "      <td>FT_b2b</td>\n",
       "      <td>0.000810</td>\n",
       "    </tr>\n",
       "    <tr>\n",
       "      <th>127</th>\n",
       "      <td>128</td>\n",
       "      <td>Power_Forward_and_Small_Forward_and_Shooting_G...</td>\n",
       "      <td>0.000648</td>\n",
       "    </tr>\n",
       "    <tr>\n",
       "      <th>128</th>\n",
       "      <td>131</td>\n",
       "      <td>Small_Forward_and_Shooting_Guard</td>\n",
       "      <td>0.000596</td>\n",
       "    </tr>\n",
       "    <tr>\n",
       "      <th>129</th>\n",
       "      <td>119</td>\n",
       "      <td>Center_and_Power_Forward_and_Small_Forward</td>\n",
       "      <td>0.000493</td>\n",
       "    </tr>\n",
       "    <tr>\n",
       "      <th>130</th>\n",
       "      <td>125</td>\n",
       "      <td>Power_Forward_and_Point_Guard_and_Small_Forwar...</td>\n",
       "      <td>0.000449</td>\n",
       "    </tr>\n",
       "    <tr>\n",
       "      <th>131</th>\n",
       "      <td>118</td>\n",
       "      <td>Center_and_Power_Forward</td>\n",
       "      <td>0.000407</td>\n",
       "    </tr>\n",
       "    <tr>\n",
       "      <th>132</th>\n",
       "      <td>90</td>\n",
       "      <td>b2b</td>\n",
       "      <td>0.000263</td>\n",
       "    </tr>\n",
       "    <tr>\n",
       "      <th>133</th>\n",
       "      <td>132</td>\n",
       "      <td>Big</td>\n",
       "      <td>0.000233</td>\n",
       "    </tr>\n",
       "    <tr>\n",
       "      <th>134</th>\n",
       "      <td>133</td>\n",
       "      <td>Guard</td>\n",
       "      <td>0.000175</td>\n",
       "    </tr>\n",
       "    <tr>\n",
       "      <th>135</th>\n",
       "      <td>136</td>\n",
       "      <td>Left_Right</td>\n",
       "      <td>0.000098</td>\n",
       "    </tr>\n",
       "    <tr>\n",
       "      <th>136</th>\n",
       "      <td>126</td>\n",
       "      <td>Power_Forward_and_Shooting_Guard</td>\n",
       "      <td>0.000074</td>\n",
       "    </tr>\n",
       "    <tr>\n",
       "      <th>137</th>\n",
       "      <td>122</td>\n",
       "      <td>Point_Guard_and_Small_Forward</td>\n",
       "      <td>0.000000</td>\n",
       "    </tr>\n",
       "  </tbody>\n",
       "</table>\n",
       "<p>138 rows × 3 columns</p>\n",
       "</div>"
      ],
      "text/plain": [
       "     index                                                  0         1\n",
       "0        2                                                Age  0.027593\n",
       "1       45                                           +/-_Av14  0.021291\n",
       "2       67                                           +/-_Av21  0.018547\n",
       "3        6                                         FG_per_Av7  0.016522\n",
       "4       60                                           AST_Av21  0.015824\n",
       "5       61                                           STL_Av21  0.015578\n",
       "6       16                                            AST_Av7  0.015432\n",
       "7        3                                             MP_Av7  0.014858\n",
       "8       28                                        FG_per_Av14  0.014438\n",
       "9       92                                       ann_inj_rate  0.014321\n",
       "10      23                                            +/-_Av7  0.014001\n",
       "11      63                                           TOV_Av21  0.013772\n",
       "12     116                                Avg_Speed_Def_Av_21  0.013594\n",
       "13      22                                           GmSc_Av7  0.013538\n",
       "14      38                                           AST_Av14  0.013296\n",
       "15     107                                Avg_Speed_Off_Av_14  0.013109\n",
       "16      50                                        FG_per_Av21  0.012952\n",
       "17      49                                           FGA_Av21  0.012862\n",
       "18      37                                           TRB_Av14  0.012629\n",
       "19     100                                 Avg_Speed_Def_Av_7  0.012564\n",
       "20     115                                Avg_Speed_Off_Av_21  0.012381\n",
       "21      35                                           ORB_Av14  0.012370\n",
       "22      64                                            PF_Av21  0.012252\n",
       "23      47                                            MP_Av21  0.012170\n",
       "24      57                                           ORB_Av21  0.011951\n",
       "25     108                                Avg_Speed_Def_Av_14  0.011799\n",
       "26      66                                          GmSc_Av21  0.011757\n",
       "27      15                                            TRB_Av7  0.011356\n",
       "28     106                                    Avg_Speed_Av_14  0.011308\n",
       "29      91                                        N_prev_injs  0.011238\n",
       "..     ...                                                ...       ...\n",
       "108     83                                            STL_b2b  0.001802\n",
       "109     87                                            PTS_b2b  0.001799\n",
       "110     72                                         FG_per_b2b  0.001678\n",
       "111    121                     Point_Guard_and_Shooting_Guard  0.001391\n",
       "112    123   Point_Guard_and_Small_Forward_and_Shooting_Guard  0.001281\n",
       "113     85                                            TOV_b2b  0.001269\n",
       "114     86                                             PF_b2b  0.001266\n",
       "115    134                                               Wing  0.001142\n",
       "116     80                                            DRB_b2b  0.001110\n",
       "117    135                                               Left  0.001099\n",
       "118    130                                      Small_Forward  0.001085\n",
       "119     81                                            TRB_b2b  0.001077\n",
       "120     79                                            ORB_b2b  0.000983\n",
       "121     74                                            3PA_b2b  0.000936\n",
       "122    120                                        Point_Guard  0.000927\n",
       "123    137                                              Right  0.000921\n",
       "124    129                                     Shooting_Guard  0.000898\n",
       "125     73                                             3P_b2b  0.000817\n",
       "126     76                                             FT_b2b  0.000810\n",
       "127    128  Power_Forward_and_Small_Forward_and_Shooting_G...  0.000648\n",
       "128    131                   Small_Forward_and_Shooting_Guard  0.000596\n",
       "129    119         Center_and_Power_Forward_and_Small_Forward  0.000493\n",
       "130    125  Power_Forward_and_Point_Guard_and_Small_Forwar...  0.000449\n",
       "131    118                           Center_and_Power_Forward  0.000407\n",
       "132     90                                                b2b  0.000263\n",
       "133    132                                                Big  0.000233\n",
       "134    133                                              Guard  0.000175\n",
       "135    136                                         Left_Right  0.000098\n",
       "136    126                   Power_Forward_and_Shooting_Guard  0.000074\n",
       "137    122                      Point_Guard_and_Small_Forward  0.000000\n",
       "\n",
       "[138 rows x 3 columns]"
      ]
     },
     "execution_count": 12,
     "metadata": {},
     "output_type": "execute_result"
    }
   ],
   "source": [
    "sort_df"
   ]
  },
  {
   "cell_type": "markdown",
   "metadata": {},
   "source": [
    "### How do we use with just the $N$ best performing features?"
   ]
  },
  {
   "cell_type": "code",
   "execution_count": 13,
   "metadata": {},
   "outputs": [
    {
     "name": "stdout",
     "output_type": "stream",
     "text": [
      "10\n",
      "20\n",
      "30\n",
      "40\n",
      "50\n"
     ]
    }
   ],
   "source": [
    "N_features = [10,20,30,40,50]\n",
    "folds = 5\n",
    "f1_scores = np.zeros((len(N_features),folds))\n",
    "\n",
    "for i,N in enumerate(N_features):\n",
    "\n",
    "    X_slice = X[sort_df[0][:N]]\n",
    "    \n",
    "    print(N)\n",
    "    \n",
    "    model= DecisionTreeClassifier()\n",
    "    scores = model_selection.cross_validate(model, X_slice, y, cv=folds,scoring='f1')                   \n",
    "    f1_scores[i] = scores['test_score']"
   ]
  },
  {
   "cell_type": "code",
   "execution_count": 16,
   "metadata": {},
   "outputs": [
    {
     "data": {
      "text/plain": [
       "Text(0, 0.5, '$F_1$ score')"
      ]
     },
     "execution_count": 16,
     "metadata": {},
     "output_type": "execute_result"
    },
    {
     "data": {
      "image/png": "[encoded data removed]",
      "text/plain": [
       "<Figure size 1100x500 with 1 Axes>"
      ]
     },
     "metadata": {
      "needs_background": "light"
     },
     "output_type": "display_data"
    }
   ],
   "source": [
    "fig = plt.figure(figsize=(11,5))\n",
    "\n",
    "means = np.mean(f1_scores,axis=1)\n",
    "stds = np.std(f1_scores,axis=1)\n",
    "x = np.arange(0,len(N_features))\n",
    "plt.errorbar(x,means,yerr=stds,marker='o',capsize=5,lw=3,mec='k',ms=10)\n",
    "x_tick_locs = np.arange(0,len(N_features))\n",
    "\n",
    "plt.xticks(x_tick_locs,[\"%d\" %N for N in N_features])    \n",
    "\n",
    "plt.xlabel(\"Number of Features Used\")\n",
    "plt.ylabel(r'$F_1$ score')"
   ]
  },
  {
   "cell_type": "code",
   "execution_count": 17,
   "metadata": {},
   "outputs": [
    {
     "data": {
      "text/plain": [
       "63"
      ]
     },
     "execution_count": 17,
     "metadata": {},
     "output_type": "execute_result"
    }
   ],
   "source": [
    "clf.tree_.max_depth"
   ]
  },
  {
   "cell_type": "markdown",
   "metadata": {},
   "source": [
    "### Now we grid search"
   ]
  },
  {
   "cell_type": "code",
   "execution_count": 18,
   "metadata": {},
   "outputs": [],
   "source": [
    "X_train, X_test, y_train, y_test = train_test_split(X[sort_df[0][:30]], y, test_size=0.25)"
   ]
  },
  {
   "cell_type": "code",
   "execution_count": 19,
   "metadata": {
    "scrolled": true
   },
   "outputs": [
    {
     "name": "stdout",
     "output_type": "stream",
     "text": [
      "Fitting 5 folds for each of 336 candidates, totalling 1680 fits\n"
     ]
    },
    {
     "name": "stderr",
     "output_type": "stream",
     "text": [
      "[Parallel(n_jobs=6)]: Using backend LokyBackend with 6 concurrent workers.\n",
      "[Parallel(n_jobs=6)]: Done  20 tasks      | elapsed:   23.1s\n",
      "[Parallel(n_jobs=6)]: Done 116 tasks      | elapsed:  2.4min\n",
      "[Parallel(n_jobs=6)]: Done 276 tasks      | elapsed:  4.3min\n",
      "[Parallel(n_jobs=6)]: Done 500 tasks      | elapsed:  7.5min\n",
      "[Parallel(n_jobs=6)]: Done 788 tasks      | elapsed: 11.8min\n",
      "[Parallel(n_jobs=6)]: Done 1140 tasks      | elapsed: 15.8min\n",
      "[Parallel(n_jobs=6)]: Done 1556 tasks      | elapsed: 20.1min\n",
      "[Parallel(n_jobs=6)]: Done 1680 out of 1680 | elapsed: 21.2min finished\n"
     ]
    },
    {
     "data": {
      "text/plain": [
       "GridSearchCV(estimator=DecisionTreeClassifier(), n_jobs=6,\n",
       "             param_grid=[{'class_weight': [{0: 1, 1: 1}, {0: 1, 1: 3},\n",
       "                                           {0: 1, 1: 5}, {0: 1, 1: 10},\n",
       "                                           {0: 1, 1: 15}, {0: 1, 1: 20}],\n",
       "                          'max_depth': [None, 100, 50, 30, 20, 15, 10, 5],\n",
       "                          'min_samples_split': [2, 5, 10, 20, 30, 50, 75]}],\n",
       "             scoring='f1', verbose=3)"
      ]
     },
     "execution_count": 19,
     "metadata": {},
     "output_type": "execute_result"
    }
   ],
   "source": [
    "params = [{'class_weight' : [{0:1,1:1},{0:1,1:3},{0:1,1:5},{0:1,1:10},{0:1,1:15},{0:1,1:20}\\\n",
    "                    ,],'max_depth' : [None,100,50,30,20,15,10,5], 'min_samples_split' : [2,5,10,20,30,50,75]}]\n",
    "       \n",
    "model=DecisionTreeClassifier()\n",
    "\n",
    "clf = model_selection.GridSearchCV(model,params,scoring='f1',verbose=3,n_jobs=6)\n",
    "\n",
    "clf.fit(X_train,y_train)"
   ]
  },
  {
   "cell_type": "code",
   "execution_count": 21,
   "metadata": {},
   "outputs": [
    {
     "name": "stdout",
     "output_type": "stream",
     "text": [
      "0.08408843372736684 {'class_weight': {0: 1, 1: 20}, 'max_depth': 5, 'min_samples_split': 2}\n"
     ]
    }
   ],
   "source": [
    "print(clf.best_score_,clf.best_params_)"
   ]
  },
  {
   "cell_type": "code",
   "execution_count": 22,
   "metadata": {},
   "outputs": [],
   "source": [
    "predicted = clf.predict(X_test)"
   ]
  },
  {
   "cell_type": "code",
   "execution_count": 23,
   "metadata": {},
   "outputs": [
    {
     "name": "stdout",
     "output_type": "stream",
     "text": [
      "0.8890826018997234\n",
      "              precision    recall  f1-score   support\n",
      "\n",
      "         0.0       0.97      0.91      0.94     32290\n",
      "         1.0       0.06      0.20      0.10       978\n",
      "\n",
      "    accuracy                           0.89     33268\n",
      "   macro avg       0.52      0.55      0.52     33268\n",
      "weighted avg       0.95      0.89      0.92     33268\n",
      "\n",
      "[[29383  2907]\n",
      " [  783   195]]\n",
      "0.09558823529411765\n"
     ]
    }
   ],
   "source": [
    "print(metrics.accuracy_score(y_test, predicted))\n",
    "print(metrics.classification_report(y_test, predicted))\n",
    "\n",
    "cm = metrics.confusion_matrix(y_test,predicted)\n",
    "print(cm)\n",
    "\n",
    "print(metrics.f1_score(y_test, predicted))"
   ]
  },
  {
   "cell_type": "markdown",
   "metadata": {},
   "source": [
    "## Random Forest"
   ]
  },
  {
   "cell_type": "code",
   "execution_count": 11,
   "metadata": {},
   "outputs": [],
   "source": [
    "from sklearn.ensemble import RandomForestClassifier"
   ]
  },
  {
   "cell_type": "code",
   "execution_count": 12,
   "metadata": {},
   "outputs": [
    {
     "name": "stderr",
     "output_type": "stream",
     "text": [
      "[Parallel(n_jobs=-1)]: Using backend ThreadingBackend with 12 concurrent workers.\n",
      "[Parallel(n_jobs=-1)]: Done  26 tasks      | elapsed:    5.0s\n",
      "[Parallel(n_jobs=-1)]: Done 100 out of 100 | elapsed:   14.3s finished\n"
     ]
    },
    {
     "data": {
      "text/plain": [
       "RandomForestClassifier(n_jobs=-1, verbose=True)"
      ]
     },
     "execution_count": 12,
     "metadata": {},
     "output_type": "execute_result"
    }
   ],
   "source": [
    "y = injs['Was_Injured']\n",
    "X = injs.drop(columns=['Was_Injured','Dist_Feet_Av_7','Dist_Feet_Av_14','Dist_Feet_Av_21','Date','Name'])\n",
    "\n",
    "X_train, X_test, y_train, y_test = train_test_split(X, y, test_size=0.25)\n",
    "\n",
    "clf = RandomForestClassifier(n_jobs=-1,verbose=True)\n",
    "clf.fit(X_train,y_train)"
   ]
  },
  {
   "cell_type": "code",
   "execution_count": 13,
   "metadata": {},
   "outputs": [
    {
     "name": "stderr",
     "output_type": "stream",
     "text": [
      "[Parallel(n_jobs=12)]: Using backend ThreadingBackend with 12 concurrent workers.\n",
      "[Parallel(n_jobs=12)]: Done  26 tasks      | elapsed:    0.1s\n",
      "[Parallel(n_jobs=12)]: Done 100 out of 100 | elapsed:    0.2s finished\n"
     ]
    }
   ],
   "source": [
    "predicted = clf.predict(X_test)"
   ]
  },
  {
   "cell_type": "code",
   "execution_count": 14,
   "metadata": {},
   "outputs": [
    {
     "name": "stdout",
     "output_type": "stream",
     "text": [
      "0.9698509077792473\n",
      "              precision    recall  f1-score   support\n",
      "\n",
      "         0.0       0.97      1.00      0.98     32265\n",
      "         1.0       0.00      0.00      0.00      1003\n",
      "\n",
      "    accuracy                           0.97     33268\n",
      "   macro avg       0.48      0.50      0.49     33268\n",
      "weighted avg       0.94      0.97      0.96     33268\n",
      "\n",
      "[[32265     0]\n",
      " [ 1003     0]]\n",
      "0.0\n"
     ]
    },
    {
     "name": "stderr",
     "output_type": "stream",
     "text": [
      "/Library/Frameworks/Python.framework/Versions/3.7/lib/python3.7/site-packages/sklearn/metrics/_classification.py:1221: UndefinedMetricWarning: Precision and F-score are ill-defined and being set to 0.0 in labels with no predicted samples. Use `zero_division` parameter to control this behavior.\n",
      "  _warn_prf(average, modifier, msg_start, len(result))\n"
     ]
    }
   ],
   "source": [
    "print(metrics.accuracy_score(y_test, predicted))\n",
    "print(metrics.classification_report(y_test, predicted))\n",
    "\n",
    "cm = metrics.confusion_matrix(y_test,predicted)\n",
    "print(cm)\n",
    "\n",
    "print(metrics.f1_score(y_test, predicted))"
   ]
  },
  {
   "cell_type": "code",
   "execution_count": 15,
   "metadata": {},
   "outputs": [],
   "source": [
    "coeffs = pd.DataFrame(zip(X.columns, np.transpose(clf.feature_importances_)))\n",
    "sort_df = coeffs.loc[coeffs[1].abs().argsort()[::-1]].reset_index(drop=True)"
   ]
  },
  {
   "cell_type": "code",
   "execution_count": 16,
   "metadata": {},
   "outputs": [
    {
     "data": {
      "text/html": [
       "<div>\n",
       "<style scoped>\n",
       "    .dataframe tbody tr th:only-of-type {\n",
       "        vertical-align: middle;\n",
       "    }\n",
       "\n",
       "    .dataframe tbody tr th {\n",
       "        vertical-align: top;\n",
       "    }\n",
       "\n",
       "    .dataframe thead th {\n",
       "        text-align: right;\n",
       "    }\n",
       "</style>\n",
       "<table border=\"1\" class=\"dataframe\">\n",
       "  <thead>\n",
       "    <tr style=\"text-align: right;\">\n",
       "      <th></th>\n",
       "      <th>0</th>\n",
       "      <th>1</th>\n",
       "    </tr>\n",
       "  </thead>\n",
       "  <tbody>\n",
       "    <tr>\n",
       "      <th>0</th>\n",
       "      <td>Age</td>\n",
       "      <td>0.017663</td>\n",
       "    </tr>\n",
       "    <tr>\n",
       "      <th>1</th>\n",
       "      <td>+/-_Av7</td>\n",
       "      <td>0.014312</td>\n",
       "    </tr>\n",
       "    <tr>\n",
       "      <th>2</th>\n",
       "      <td>+/-_Av21</td>\n",
       "      <td>0.013656</td>\n",
       "    </tr>\n",
       "    <tr>\n",
       "      <th>3</th>\n",
       "      <td>+/-_Av14</td>\n",
       "      <td>0.013327</td>\n",
       "    </tr>\n",
       "    <tr>\n",
       "      <th>4</th>\n",
       "      <td>Avg_Speed_Off_Av_7</td>\n",
       "      <td>0.012503</td>\n",
       "    </tr>\n",
       "    <tr>\n",
       "      <th>5</th>\n",
       "      <td>GmSc_Av7</td>\n",
       "      <td>0.012358</td>\n",
       "    </tr>\n",
       "    <tr>\n",
       "      <th>6</th>\n",
       "      <td>ann_inj_rate</td>\n",
       "      <td>0.012346</td>\n",
       "    </tr>\n",
       "    <tr>\n",
       "      <th>7</th>\n",
       "      <td>MP_Av7</td>\n",
       "      <td>0.012209</td>\n",
       "    </tr>\n",
       "    <tr>\n",
       "      <th>8</th>\n",
       "      <td>AST_Av21</td>\n",
       "      <td>0.012168</td>\n",
       "    </tr>\n",
       "    <tr>\n",
       "      <th>9</th>\n",
       "      <td>MP_Av21</td>\n",
       "      <td>0.012088</td>\n",
       "    </tr>\n",
       "    <tr>\n",
       "      <th>10</th>\n",
       "      <td>MP_Av14</td>\n",
       "      <td>0.012061</td>\n",
       "    </tr>\n",
       "    <tr>\n",
       "      <th>11</th>\n",
       "      <td>FG_per_Av21</td>\n",
       "      <td>0.012041</td>\n",
       "    </tr>\n",
       "    <tr>\n",
       "      <th>12</th>\n",
       "      <td>GmSc_Av14</td>\n",
       "      <td>0.012023</td>\n",
       "    </tr>\n",
       "    <tr>\n",
       "      <th>13</th>\n",
       "      <td>GmSc_Av21</td>\n",
       "      <td>0.011996</td>\n",
       "    </tr>\n",
       "    <tr>\n",
       "      <th>14</th>\n",
       "      <td>PF_Av21</td>\n",
       "      <td>0.011985</td>\n",
       "    </tr>\n",
       "    <tr>\n",
       "      <th>15</th>\n",
       "      <td>FG_per_Av7</td>\n",
       "      <td>0.011900</td>\n",
       "    </tr>\n",
       "    <tr>\n",
       "      <th>16</th>\n",
       "      <td>Avg_Speed_Off_Av_21</td>\n",
       "      <td>0.011832</td>\n",
       "    </tr>\n",
       "    <tr>\n",
       "      <th>17</th>\n",
       "      <td>N_prev_injs</td>\n",
       "      <td>0.011830</td>\n",
       "    </tr>\n",
       "    <tr>\n",
       "      <th>18</th>\n",
       "      <td>Avg_Speed_Def_Av_7</td>\n",
       "      <td>0.011769</td>\n",
       "    </tr>\n",
       "    <tr>\n",
       "      <th>19</th>\n",
       "      <td>Avg_Speed_Off_Av_14</td>\n",
       "      <td>0.011643</td>\n",
       "    </tr>\n",
       "    <tr>\n",
       "      <th>20</th>\n",
       "      <td>Avg_Speed_Def_Av_14</td>\n",
       "      <td>0.011599</td>\n",
       "    </tr>\n",
       "    <tr>\n",
       "      <th>21</th>\n",
       "      <td>Avg_Speed_Def_Av_21</td>\n",
       "      <td>0.011560</td>\n",
       "    </tr>\n",
       "    <tr>\n",
       "      <th>22</th>\n",
       "      <td>FG_per_Av14</td>\n",
       "      <td>0.011468</td>\n",
       "    </tr>\n",
       "    <tr>\n",
       "      <th>23</th>\n",
       "      <td>Avg_Speed_Av_7</td>\n",
       "      <td>0.011420</td>\n",
       "    </tr>\n",
       "    <tr>\n",
       "      <th>24</th>\n",
       "      <td>Avg_Speed_Av_21</td>\n",
       "      <td>0.011404</td>\n",
       "    </tr>\n",
       "    <tr>\n",
       "      <th>25</th>\n",
       "      <td>TOV_Av21</td>\n",
       "      <td>0.011274</td>\n",
       "    </tr>\n",
       "    <tr>\n",
       "      <th>26</th>\n",
       "      <td>FGA_Av14</td>\n",
       "      <td>0.011232</td>\n",
       "    </tr>\n",
       "    <tr>\n",
       "      <th>27</th>\n",
       "      <td>AST_Av14</td>\n",
       "      <td>0.011141</td>\n",
       "    </tr>\n",
       "    <tr>\n",
       "      <th>28</th>\n",
       "      <td>Avg_Speed_Av_14</td>\n",
       "      <td>0.011105</td>\n",
       "    </tr>\n",
       "    <tr>\n",
       "      <th>29</th>\n",
       "      <td>FGA_Av21</td>\n",
       "      <td>0.010947</td>\n",
       "    </tr>\n",
       "    <tr>\n",
       "      <th>...</th>\n",
       "      <td>...</td>\n",
       "      <td>...</td>\n",
       "    </tr>\n",
       "    <tr>\n",
       "      <th>108</th>\n",
       "      <td>FT_per_b2b</td>\n",
       "      <td>0.001509</td>\n",
       "    </tr>\n",
       "    <tr>\n",
       "      <th>109</th>\n",
       "      <td>PF_b2b</td>\n",
       "      <td>0.001488</td>\n",
       "    </tr>\n",
       "    <tr>\n",
       "      <th>110</th>\n",
       "      <td>TOV_b2b</td>\n",
       "      <td>0.001429</td>\n",
       "    </tr>\n",
       "    <tr>\n",
       "      <th>111</th>\n",
       "      <td>FTA_b2b</td>\n",
       "      <td>0.001339</td>\n",
       "    </tr>\n",
       "    <tr>\n",
       "      <th>112</th>\n",
       "      <td>ORB_b2b</td>\n",
       "      <td>0.001331</td>\n",
       "    </tr>\n",
       "    <tr>\n",
       "      <th>113</th>\n",
       "      <td>BLK_b2b</td>\n",
       "      <td>0.001323</td>\n",
       "    </tr>\n",
       "    <tr>\n",
       "      <th>114</th>\n",
       "      <td>Power_Forward_and_Small_Forward</td>\n",
       "      <td>0.001317</td>\n",
       "    </tr>\n",
       "    <tr>\n",
       "      <th>115</th>\n",
       "      <td>3P_per_b2b</td>\n",
       "      <td>0.001304</td>\n",
       "    </tr>\n",
       "    <tr>\n",
       "      <th>116</th>\n",
       "      <td>3P_b2b</td>\n",
       "      <td>0.001287</td>\n",
       "    </tr>\n",
       "    <tr>\n",
       "      <th>117</th>\n",
       "      <td>Wing</td>\n",
       "      <td>0.001237</td>\n",
       "    </tr>\n",
       "    <tr>\n",
       "      <th>118</th>\n",
       "      <td>STL_b2b</td>\n",
       "      <td>0.001237</td>\n",
       "    </tr>\n",
       "    <tr>\n",
       "      <th>119</th>\n",
       "      <td>Point_Guard_and_Shooting_Guard</td>\n",
       "      <td>0.001185</td>\n",
       "    </tr>\n",
       "    <tr>\n",
       "      <th>120</th>\n",
       "      <td>Power_Forward</td>\n",
       "      <td>0.001157</td>\n",
       "    </tr>\n",
       "    <tr>\n",
       "      <th>121</th>\n",
       "      <td>Right</td>\n",
       "      <td>0.001150</td>\n",
       "    </tr>\n",
       "    <tr>\n",
       "      <th>122</th>\n",
       "      <td>FT_b2b</td>\n",
       "      <td>0.001149</td>\n",
       "    </tr>\n",
       "    <tr>\n",
       "      <th>123</th>\n",
       "      <td>Left</td>\n",
       "      <td>0.001111</td>\n",
       "    </tr>\n",
       "    <tr>\n",
       "      <th>124</th>\n",
       "      <td>Shooting_Guard</td>\n",
       "      <td>0.001110</td>\n",
       "    </tr>\n",
       "    <tr>\n",
       "      <th>125</th>\n",
       "      <td>Guard</td>\n",
       "      <td>0.001107</td>\n",
       "    </tr>\n",
       "    <tr>\n",
       "      <th>126</th>\n",
       "      <td>Center</td>\n",
       "      <td>0.000995</td>\n",
       "    </tr>\n",
       "    <tr>\n",
       "      <th>127</th>\n",
       "      <td>Center_and_Power_Forward</td>\n",
       "      <td>0.000981</td>\n",
       "    </tr>\n",
       "    <tr>\n",
       "      <th>128</th>\n",
       "      <td>Point_Guard</td>\n",
       "      <td>0.000976</td>\n",
       "    </tr>\n",
       "    <tr>\n",
       "      <th>129</th>\n",
       "      <td>Big</td>\n",
       "      <td>0.000880</td>\n",
       "    </tr>\n",
       "    <tr>\n",
       "      <th>130</th>\n",
       "      <td>Power_Forward_and_Small_Forward_and_Shooting_G...</td>\n",
       "      <td>0.000753</td>\n",
       "    </tr>\n",
       "    <tr>\n",
       "      <th>131</th>\n",
       "      <td>Point_Guard_and_Small_Forward_and_Shooting_Guard</td>\n",
       "      <td>0.000715</td>\n",
       "    </tr>\n",
       "    <tr>\n",
       "      <th>132</th>\n",
       "      <td>b2b</td>\n",
       "      <td>0.000480</td>\n",
       "    </tr>\n",
       "    <tr>\n",
       "      <th>133</th>\n",
       "      <td>Center_and_Power_Forward_and_Small_Forward</td>\n",
       "      <td>0.000355</td>\n",
       "    </tr>\n",
       "    <tr>\n",
       "      <th>134</th>\n",
       "      <td>Left_Right</td>\n",
       "      <td>0.000266</td>\n",
       "    </tr>\n",
       "    <tr>\n",
       "      <th>135</th>\n",
       "      <td>Power_Forward_and_Shooting_Guard</td>\n",
       "      <td>0.000163</td>\n",
       "    </tr>\n",
       "    <tr>\n",
       "      <th>136</th>\n",
       "      <td>Power_Forward_and_Point_Guard_and_Small_Forwar...</td>\n",
       "      <td>0.000152</td>\n",
       "    </tr>\n",
       "    <tr>\n",
       "      <th>137</th>\n",
       "      <td>Point_Guard_and_Small_Forward</td>\n",
       "      <td>0.000047</td>\n",
       "    </tr>\n",
       "  </tbody>\n",
       "</table>\n",
       "<p>138 rows × 2 columns</p>\n",
       "</div>"
      ],
      "text/plain": [
       "                                                     0         1\n",
       "0                                                  Age  0.017663\n",
       "1                                              +/-_Av7  0.014312\n",
       "2                                             +/-_Av21  0.013656\n",
       "3                                             +/-_Av14  0.013327\n",
       "4                                   Avg_Speed_Off_Av_7  0.012503\n",
       "5                                             GmSc_Av7  0.012358\n",
       "6                                         ann_inj_rate  0.012346\n",
       "7                                               MP_Av7  0.012209\n",
       "8                                             AST_Av21  0.012168\n",
       "9                                              MP_Av21  0.012088\n",
       "10                                             MP_Av14  0.012061\n",
       "11                                         FG_per_Av21  0.012041\n",
       "12                                           GmSc_Av14  0.012023\n",
       "13                                           GmSc_Av21  0.011996\n",
       "14                                             PF_Av21  0.011985\n",
       "15                                          FG_per_Av7  0.011900\n",
       "16                                 Avg_Speed_Off_Av_21  0.011832\n",
       "17                                         N_prev_injs  0.011830\n",
       "18                                  Avg_Speed_Def_Av_7  0.011769\n",
       "19                                 Avg_Speed_Off_Av_14  0.011643\n",
       "20                                 Avg_Speed_Def_Av_14  0.011599\n",
       "21                                 Avg_Speed_Def_Av_21  0.011560\n",
       "22                                         FG_per_Av14  0.011468\n",
       "23                                      Avg_Speed_Av_7  0.011420\n",
       "24                                     Avg_Speed_Av_21  0.011404\n",
       "25                                            TOV_Av21  0.011274\n",
       "26                                            FGA_Av14  0.011232\n",
       "27                                            AST_Av14  0.011141\n",
       "28                                     Avg_Speed_Av_14  0.011105\n",
       "29                                            FGA_Av21  0.010947\n",
       "..                                                 ...       ...\n",
       "108                                         FT_per_b2b  0.001509\n",
       "109                                             PF_b2b  0.001488\n",
       "110                                            TOV_b2b  0.001429\n",
       "111                                            FTA_b2b  0.001339\n",
       "112                                            ORB_b2b  0.001331\n",
       "113                                            BLK_b2b  0.001323\n",
       "114                    Power_Forward_and_Small_Forward  0.001317\n",
       "115                                         3P_per_b2b  0.001304\n",
       "116                                             3P_b2b  0.001287\n",
       "117                                               Wing  0.001237\n",
       "118                                            STL_b2b  0.001237\n",
       "119                     Point_Guard_and_Shooting_Guard  0.001185\n",
       "120                                      Power_Forward  0.001157\n",
       "121                                              Right  0.001150\n",
       "122                                             FT_b2b  0.001149\n",
       "123                                               Left  0.001111\n",
       "124                                     Shooting_Guard  0.001110\n",
       "125                                              Guard  0.001107\n",
       "126                                             Center  0.000995\n",
       "127                           Center_and_Power_Forward  0.000981\n",
       "128                                        Point_Guard  0.000976\n",
       "129                                                Big  0.000880\n",
       "130  Power_Forward_and_Small_Forward_and_Shooting_G...  0.000753\n",
       "131   Point_Guard_and_Small_Forward_and_Shooting_Guard  0.000715\n",
       "132                                                b2b  0.000480\n",
       "133         Center_and_Power_Forward_and_Small_Forward  0.000355\n",
       "134                                         Left_Right  0.000266\n",
       "135                   Power_Forward_and_Shooting_Guard  0.000163\n",
       "136  Power_Forward_and_Point_Guard_and_Small_Forwar...  0.000152\n",
       "137                      Point_Guard_and_Small_Forward  0.000047\n",
       "\n",
       "[138 rows x 2 columns]"
      ]
     },
     "execution_count": 16,
     "metadata": {},
     "output_type": "execute_result"
    }
   ],
   "source": [
    "sort_df"
   ]
  },
  {
   "cell_type": "code",
   "execution_count": 17,
   "metadata": {},
   "outputs": [
    {
     "name": "stdout",
     "output_type": "stream",
     "text": [
      "10\n",
      "20\n",
      "30\n",
      "40\n",
      "50\n"
     ]
    }
   ],
   "source": [
    "N_features = [10,20,30,40,50]\n",
    "folds = 5\n",
    "f1_scores = np.zeros((len(N_features),folds))\n",
    "\n",
    "for i,N in enumerate(N_features):\n",
    "\n",
    "    X_slice = X[sort_df[0][:N]]\n",
    "    \n",
    "    print(N)\n",
    "    \n",
    "    model= DecisionTreeClassifier()\n",
    "    scores = model_selection.cross_validate(model, X_slice, y, cv=folds,scoring='f1')                   \n",
    "    f1_scores[i] = scores['test_score']"
   ]
  },
  {
   "cell_type": "code",
   "execution_count": 18,
   "metadata": {},
   "outputs": [
    {
     "data": {
      "text/plain": [
       "Text(0, 0.5, '$F_1$ score')"
      ]
     },
     "execution_count": 18,
     "metadata": {},
     "output_type": "execute_result"
    },
    {
     "data": {
      "image/png": "[encoded data removed]",
      "text/plain": [
       "<Figure size 1100x500 with 1 Axes>"
      ]
     },
     "metadata": {
      "needs_background": "light"
     },
     "output_type": "display_data"
    }
   ],
   "source": [
    "fig = plt.figure(figsize=(11,5))\n",
    "\n",
    "means = np.mean(f1_scores,axis=1)\n",
    "stds = np.std(f1_scores,axis=1)\n",
    "x = np.arange(0,len(N_features))\n",
    "plt.errorbar(x,means,yerr=stds,marker='o',capsize=5,lw=3,mec='k',ms=10)\n",
    "x_tick_locs = np.arange(0,len(N_features))\n",
    "\n",
    "plt.xticks(x_tick_locs,[\"%d\" %N for N in N_features])    \n",
    "\n",
    "plt.xlabel(\"Number of Features Used\")\n",
    "plt.ylabel(r'$F_1$ score')"
   ]
  },
  {
   "cell_type": "markdown",
   "metadata": {},
   "source": [
    "### Now we grid search"
   ]
  },
  {
   "cell_type": "code",
   "execution_count": 22,
   "metadata": {},
   "outputs": [],
   "source": [
    "X_train, X_test, y_train, y_test = train_test_split(X[sort_df[0][:30]], y, test_size=0.25)"
   ]
  },
  {
   "cell_type": "code",
   "execution_count": 26,
   "metadata": {},
   "outputs": [
    {
     "name": "stdout",
     "output_type": "stream",
     "text": [
      "Fitting 5 folds for each of 125 candidates, totalling 625 fits\n"
     ]
    },
    {
     "name": "stderr",
     "output_type": "stream",
     "text": [
      "[Parallel(n_jobs=12)]: Using backend LokyBackend with 12 concurrent workers.\n",
      "[Parallel(n_jobs=12)]: Done   8 tasks      | elapsed:  1.2min\n",
      "[Parallel(n_jobs=12)]: Done 104 tasks      | elapsed:  8.2min\n",
      "[Parallel(n_jobs=12)]: Done 264 tasks      | elapsed: 21.6min\n",
      "[Parallel(n_jobs=12)]: Done 488 tasks      | elapsed: 35.0min\n",
      "[Parallel(n_jobs=12)]: Done 625 out of 625 | elapsed: 42.6min finished\n"
     ]
    },
    {
     "data": {
      "text/plain": [
       "GridSearchCV(estimator=RandomForestClassifier(n_jobs=12), n_jobs=12,\n",
       "             param_grid=[{'class_weight': [{0: 1, 1: 3}, {0: 1, 1: 5},\n",
       "                                           {0: 1, 1: 10}, {0: 1, 1: 20},\n",
       "                                           {0: 1, 1: 35}],\n",
       "                          'max_depth': [None, 30, 15, 10, 5],\n",
       "                          'min_samples_split': [2, 5, 10, 30, 50]}],\n",
       "             scoring='f1', verbose=3)"
      ]
     },
     "execution_count": 26,
     "metadata": {},
     "output_type": "execute_result"
    }
   ],
   "source": [
    "params = [{'class_weight' : [{0:1,1:3},{0:1,1:5},{0:1,1:10},{0:1,1:20},{0:1,1:35}]\\\n",
    "                    ,'max_depth' : [None,30,15,10,5], 'min_samples_split' : [2,5,10,30,50]}]\n",
    "       \n",
    "model = RandomForestClassifier(n_jobs=12)\n",
    "\n",
    "clf = model_selection.GridSearchCV(model,params,scoring='f1',verbose=3,n_jobs=12)\n",
    "\n",
    "clf.fit(X_train,y_train)"
   ]
  },
  {
   "cell_type": "code",
   "execution_count": 27,
   "metadata": {},
   "outputs": [
    {
     "name": "stdout",
     "output_type": "stream",
     "text": [
      "0.08567283146063165 {'class_weight': {0: 1, 1: 35}, 'max_depth': 10, 'min_samples_split': 50}\n"
     ]
    }
   ],
   "source": [
    "print(clf.best_score_,clf.best_params_)"
   ]
  },
  {
   "cell_type": "code",
   "execution_count": 28,
   "metadata": {},
   "outputs": [],
   "source": [
    "predicted = clf.predict(X_test)\n",
    "probs = clf.predict_proba(X_test)"
   ]
  },
  {
   "cell_type": "code",
   "execution_count": 29,
   "metadata": {},
   "outputs": [
    {
     "name": "stdout",
     "output_type": "stream",
     "text": [
      "0.8508176025009018\n",
      "              precision    recall  f1-score   support\n",
      "\n",
      "         0.0       0.97      0.87      0.92     32319\n",
      "         1.0       0.05      0.21      0.07       949\n",
      "\n",
      "    accuracy                           0.85     33268\n",
      "   macro avg       0.51      0.54      0.50     33268\n",
      "weighted avg       0.95      0.85      0.89     33268\n",
      "\n",
      "[[28104  4215]\n",
      " [  748   201]]\n",
      "0.5995269887763679\n",
      "0.07493010251630942\n"
     ]
    }
   ],
   "source": [
    "print(metrics.accuracy_score(y_test, predicted))\n",
    "print(metrics.classification_report(y_test, predicted))\n",
    "\n",
    "cm = metrics.confusion_matrix(y_test,predicted)\n",
    "roc = metrics.roc_auc_score(y_test,probs[:,1])\n",
    "f1 = metrics.f1_score(y_test,predicted)\n",
    "print(cm)\n",
    "print(roc)\n",
    "print(f1)"
   ]
  },
  {
   "cell_type": "code",
   "execution_count": 30,
   "metadata": {},
   "outputs": [
    {
     "data": {
      "image/png": "[encoded data removed]",
      "text/plain": [
       "<Figure size 600x400 with 2 Axes>"
      ]
     },
     "metadata": {
      "needs_background": "light"
     },
     "output_type": "display_data"
    }
   ],
   "source": [
    "from matplotlib.collections import LineCollection\n",
    "\n",
    "fpr, tpr, thresholds = metrics.roc_curve(y_test,probs[:,1])\n",
    "\n",
    "fig = plt.figure()\n",
    "\n",
    "# plt.plot(fpr,tpr)\n",
    "plt.plot(fpr,fpr,linestyle='dashed')\n",
    "\n",
    "plt.xlabel(\"FPR\")\n",
    "plt.ylabel(\"TPR\")\n",
    "\n",
    "plt.axhline(y=0.5,color='r',linestyle='dashed')\n",
    "plt.axhline(y=0.6,color='r',linestyle='dashed')\n",
    "\n",
    "points = np.array([fpr, tpr]).T.reshape(-1, 1, 2)\n",
    "segments = np.concatenate([points[:-1], points[1:]], axis=1)\n",
    "\n",
    "norm = plt.Normalize(thresholds.min(), thresholds[np.where(tpr<0.01)[0][-1]])\n",
    "lc = LineCollection(segments, cmap='viridis', norm=norm)\n",
    "# Set the values used for colormapping\n",
    "lc.set_array(thresholds)\n",
    "lc.set_linewidth(2)\n",
    "line = plt.gca().add_collection(lc)\n",
    "cb = fig.colorbar(line, ax=plt.gca())\n",
    "cb.set_label('Probability Threshold')\n",
    "\n",
    "# plt.axis([0,0.1,0,0.1])"
   ]
  },
  {
   "cell_type": "markdown",
   "metadata": {},
   "source": [
    "## SVM"
   ]
  },
  {
   "cell_type": "code",
   "execution_count": 13,
   "metadata": {},
   "outputs": [],
   "source": [
    "from sklearn.svm import SVC"
   ]
  },
  {
   "cell_type": "code",
   "execution_count": 15,
   "metadata": {},
   "outputs": [
    {
     "name": "stdout",
     "output_type": "stream",
     "text": [
      "[LibSVM]"
     ]
    },
    {
     "data": {
      "text/plain": [
       "SVC(verbose=True)"
      ]
     },
     "execution_count": 15,
     "metadata": {},
     "output_type": "execute_result"
    }
   ],
   "source": [
    "y = injs['Was_Injured']\n",
    "X = injs[['Age', 'MP_Av14', '3P_Av14', '3PA_Av14', 'FTA_Av14', 'DRB_Av14',\n",
    "       'MP_Av21', 'FTA_Av21', 'FT_per_Av21', 'DRB_Av21', 'FTA_b2b',\n",
    "       'FT_per_b2b', 'N_prev_injs', 'W_Av_7', 'L_Av_7', 'Dist_Miles_Off_Av_7',\n",
    "       'W_Av_14', 'L_Av_14', 'Dist_Miles_Def_Av_14', 'Avg_Speed_Off_Av_14',\n",
    "       'L_Av_21', 'Dist_Miles_Av_21', 'Dist_Miles_Def_Av_21',\n",
    "       'Avg_Speed_Off_Av_21']]\n",
    "\n",
    "X_train, X_test, y_train, y_test = train_test_split(X, y, test_size=0.5)\n",
    "scaler = sklearn.preprocessing.StandardScaler().fit(X_train)\n",
    "X_train = scaler.transform(X_train)\n",
    "X_test = scaler.transform(X_test)\n",
    "\n",
    "clf = SVC(verbose=True,kernel='rbf')\n",
    "clf.fit(X_train,y_train)"
   ]
  },
  {
   "cell_type": "code",
   "execution_count": 16,
   "metadata": {},
   "outputs": [],
   "source": [
    "predicted = clf.predict(X_test)"
   ]
  },
  {
   "cell_type": "code",
   "execution_count": 17,
   "metadata": {},
   "outputs": [
    {
     "name": "stdout",
     "output_type": "stream",
     "text": [
      "0.9698358783215102\n",
      "              precision    recall  f1-score   support\n",
      "\n",
      "         0.0       0.97      1.00      0.98     64529\n",
      "         1.0       0.00      0.00      0.00      2007\n",
      "\n",
      "    accuracy                           0.97     66536\n",
      "   macro avg       0.48      0.50      0.49     66536\n",
      "weighted avg       0.94      0.97      0.95     66536\n",
      "\n",
      "[[64529     0]\n",
      " [ 2007     0]]\n",
      "0.0\n"
     ]
    },
    {
     "name": "stderr",
     "output_type": "stream",
     "text": [
      "/Library/Frameworks/Python.framework/Versions/3.7/lib/python3.7/site-packages/sklearn/metrics/_classification.py:1221: UndefinedMetricWarning: Precision and F-score are ill-defined and being set to 0.0 in labels with no predicted samples. Use `zero_division` parameter to control this behavior.\n",
      "  _warn_prf(average, modifier, msg_start, len(result))\n"
     ]
    }
   ],
   "source": [
    "print(metrics.accuracy_score(y_test, predicted))\n",
    "print(metrics.classification_report(y_test, predicted))\n",
    "\n",
    "cm = metrics.confusion_matrix(y_test,predicted)\n",
    "print(cm)\n",
    "\n",
    "print(metrics.f1_score(y_test, predicted))"
   ]
  },
  {
   "cell_type": "markdown",
   "metadata": {},
   "source": [
    "### Try with moderate class weight"
   ]
  },
  {
   "cell_type": "code",
   "execution_count": 21,
   "metadata": {},
   "outputs": [
    {
     "name": "stdout",
     "output_type": "stream",
     "text": [
      "[LibSVM]"
     ]
    },
    {
     "data": {
      "text/plain": [
       "SVC(class_weight={0: 1, 1: 4.889}, verbose=True)"
      ]
     },
     "execution_count": 21,
     "metadata": {},
     "output_type": "execute_result"
    }
   ],
   "source": [
    "games_added = 5.889 - 1\n",
    "\n",
    "y = injs['Was_Injured']\n",
    "X = injs[['Age', 'MP_Av14', '3P_Av14', '3PA_Av14', 'FTA_Av14', 'DRB_Av14',\n",
    "       'MP_Av21', 'FTA_Av21', 'FT_per_Av21', 'DRB_Av21', 'FTA_b2b',\n",
    "       'FT_per_b2b', 'N_prev_injs', 'W_Av_7', 'L_Av_7', 'Dist_Miles_Off_Av_7',\n",
    "       'W_Av_14', 'L_Av_14', 'Dist_Miles_Def_Av_14', 'Avg_Speed_Off_Av_14',\n",
    "       'L_Av_21', 'Dist_Miles_Av_21', 'Dist_Miles_Def_Av_21',\n",
    "       'Avg_Speed_Off_Av_21']]\n",
    "\n",
    "X_train, X_test, y_train, y_test = train_test_split(X, y, test_size=0.25)\n",
    "scaler = sklearn.preprocessing.StandardScaler().fit(X_train)\n",
    "X_train = scaler.transform(X_train)\n",
    "X_test = scaler.transform(X_test)\n",
    "\n",
    "clf = SVC(verbose=True,kernel='rbf',class_weight={0:1,1:games_added})\n",
    "clf.fit(X_train,y_train)"
   ]
  },
  {
   "cell_type": "code",
   "execution_count": 22,
   "metadata": {},
   "outputs": [],
   "source": [
    "predicted = clf.predict(X_test)"
   ]
  },
  {
   "cell_type": "code",
   "execution_count": 23,
   "metadata": {},
   "outputs": [
    {
     "name": "stdout",
     "output_type": "stream",
     "text": [
      "0.9697607310328243\n",
      "              precision    recall  f1-score   support\n",
      "\n",
      "         0.0       0.97      1.00      0.98     32264\n",
      "         1.0       0.00      0.00      0.00      1004\n",
      "\n",
      "    accuracy                           0.97     33268\n",
      "   macro avg       0.48      0.50      0.49     33268\n",
      "weighted avg       0.94      0.97      0.95     33268\n",
      "\n",
      "[[32262     2]\n",
      " [ 1004     0]]\n",
      "0.0\n"
     ]
    }
   ],
   "source": [
    "print(metrics.accuracy_score(y_test, predicted))\n",
    "print(metrics.classification_report(y_test, predicted))\n",
    "\n",
    "cm = metrics.confusion_matrix(y_test,predicted)\n",
    "print(cm)\n",
    "\n",
    "print(metrics.f1_score(y_test, predicted))"
   ]
  },
  {
   "cell_type": "markdown",
   "metadata": {},
   "source": [
    "### Try with balanced class weight"
   ]
  },
  {
   "cell_type": "code",
   "execution_count": 24,
   "metadata": {},
   "outputs": [
    {
     "name": "stdout",
     "output_type": "stream",
     "text": [
      "[LibSVM]"
     ]
    },
    {
     "data": {
      "text/plain": [
       "SVC(class_weight='balanced', verbose=True)"
      ]
     },
     "execution_count": 24,
     "metadata": {},
     "output_type": "execute_result"
    }
   ],
   "source": [
    "games_added = 5.889 - 1\n",
    "\n",
    "y = injs['Was_Injured']\n",
    "X = injs[['Age', 'MP_Av14', '3P_Av14', '3PA_Av14', 'FTA_Av14', 'DRB_Av14',\n",
    "       'MP_Av21', 'FTA_Av21', 'FT_per_Av21', 'DRB_Av21', 'FTA_b2b',\n",
    "       'FT_per_b2b', 'N_prev_injs', 'W_Av_7', 'L_Av_7', 'Dist_Miles_Off_Av_7',\n",
    "       'W_Av_14', 'L_Av_14', 'Dist_Miles_Def_Av_14', 'Avg_Speed_Off_Av_14',\n",
    "       'L_Av_21', 'Dist_Miles_Av_21', 'Dist_Miles_Def_Av_21',\n",
    "       'Avg_Speed_Off_Av_21']]\n",
    "\n",
    "X_train, X_test, y_train, y_test = train_test_split(X, y, test_size=0.25)\n",
    "scaler = sklearn.preprocessing.StandardScaler().fit(X_train)\n",
    "X_train = scaler.transform(X_train)\n",
    "X_test = scaler.transform(X_test)\n",
    "\n",
    "clf = SVC(verbose=True,kernel='rbf',class_weight='balanced')\n",
    "clf.fit(X_train,y_train)"
   ]
  },
  {
   "cell_type": "code",
   "execution_count": 25,
   "metadata": {},
   "outputs": [],
   "source": [
    "predicted = clf.predict(X_test)"
   ]
  },
  {
   "cell_type": "code",
   "execution_count": 26,
   "metadata": {},
   "outputs": [
    {
     "name": "stdout",
     "output_type": "stream",
     "text": [
      "0.6855837441385115\n",
      "              precision    recall  f1-score   support\n",
      "\n",
      "         0.0       0.98      0.69      0.81     32306\n",
      "         1.0       0.04      0.46      0.08       962\n",
      "\n",
      "    accuracy                           0.69     33268\n",
      "   macro avg       0.51      0.58      0.44     33268\n",
      "weighted avg       0.95      0.69      0.79     33268\n",
      "\n",
      "[[22366  9940]\n",
      " [  520   442]]\n",
      "0.07792665726375177\n"
     ]
    }
   ],
   "source": [
    "print(metrics.accuracy_score(y_test, predicted))\n",
    "print(metrics.classification_report(y_test, predicted))\n",
    "\n",
    "cm = metrics.confusion_matrix(y_test,predicted)\n",
    "print(cm)\n",
    "\n",
    "print(metrics.f1_score(y_test, predicted))"
   ]
  },
  {
   "cell_type": "markdown",
   "metadata": {},
   "source": [
    "### Try with balanced class weight"
   ]
  },
  {
   "cell_type": "code",
   "execution_count": 30,
   "metadata": {},
   "outputs": [
    {
     "name": "stdout",
     "output_type": "stream",
     "text": [
      "[LibSVM]"
     ]
    },
    {
     "data": {
      "text/plain": [
       "SVC(C=1000.0, class_weight='balanced', verbose=True)"
      ]
     },
     "execution_count": 30,
     "metadata": {},
     "output_type": "execute_result"
    }
   ],
   "source": [
    "games_added = 5.889 - 1\n",
    "\n",
    "y = injs['Was_Injured']\n",
    "X = injs[['Age', 'MP_Av14', '3P_Av14', '3PA_Av14', 'FTA_Av14', 'DRB_Av14',\n",
    "       'MP_Av21', 'FTA_Av21', 'FT_per_Av21', 'DRB_Av21', 'FTA_b2b',\n",
    "       'FT_per_b2b', 'N_prev_injs', 'W_Av_7', 'L_Av_7', 'Dist_Miles_Off_Av_7',\n",
    "       'W_Av_14', 'L_Av_14', 'Dist_Miles_Def_Av_14', 'Avg_Speed_Off_Av_14',\n",
    "       'L_Av_21', 'Dist_Miles_Av_21', 'Dist_Miles_Def_Av_21',\n",
    "       'Avg_Speed_Off_Av_21']]\n",
    "\n",
    "X_train, X_test, y_train, y_test = train_test_split(X, y, test_size=0.25)\n",
    "scaler = sklearn.preprocessing.StandardScaler().fit(X_train)\n",
    "X_train = scaler.transform(X_train)\n",
    "X_test = scaler.transform(X_test)\n",
    "\n",
    "clf = SVC(verbose=True,kernel='rbf',class_weight='balanced',C=1e3)\n",
    "clf.fit(X_train,y_train)"
   ]
  },
  {
   "cell_type": "code",
   "execution_count": 31,
   "metadata": {},
   "outputs": [],
   "source": [
    "predicted = clf.predict(X_test)"
   ]
  },
  {
   "cell_type": "code",
   "execution_count": 32,
   "metadata": {},
   "outputs": [
    {
     "name": "stdout",
     "output_type": "stream",
     "text": [
      "0.915203799446916\n",
      "              precision    recall  f1-score   support\n",
      "\n",
      "         0.0       0.97      0.94      0.96     32292\n",
      "         1.0       0.04      0.07      0.05       976\n",
      "\n",
      "    accuracy                           0.92     33268\n",
      "   macro avg       0.50      0.51      0.50     33268\n",
      "weighted avg       0.94      0.92      0.93     33268\n",
      "\n",
      "[[30375  1917]\n",
      " [  904    72]]\n",
      "0.04856661045531197\n"
     ]
    }
   ],
   "source": [
    "print(metrics.accuracy_score(y_test, predicted))\n",
    "print(metrics.classification_report(y_test, predicted))\n",
    "\n",
    "cm = metrics.confusion_matrix(y_test,predicted)\n",
    "print(cm)\n",
    "\n",
    "print(metrics.f1_score(y_test, predicted))"
   ]
  },
  {
   "cell_type": "code",
   "execution_count": null,
   "metadata": {},
   "outputs": [],
   "source": []
  }
 ],
 "metadata": {
  "kernelspec": {
   "display_name": "Python 3",
   "language": "python",
   "name": "python3"
  },
  "language_info": {
   "codemirror_mode": {
    "name": "ipython",
    "version": 3
   },
   "file_extension": ".py",
   "mimetype": "text/x-python",
   "name": "python",
   "nbconvert_exporter": "python",
   "pygments_lexer": "ipython3",
   "version": "3.7.3"
  }
 },
 "nbformat": 4,
 "nbformat_minor": 2
}
