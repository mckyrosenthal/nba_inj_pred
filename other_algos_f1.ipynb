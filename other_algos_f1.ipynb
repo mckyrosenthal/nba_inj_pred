{
 "cells": [
  {
   "cell_type": "code",
   "execution_count": 15,
   "metadata": {},
   "outputs": [],
   "source": [
    "import pandas as pd\n",
    "import numpy as np\n",
    "import matplotlib.pyplot as plt\n",
    "import matplotlib as mpl\n",
    "\n",
    "import sklearn\n",
    "\n",
    "from sklearn.preprocessing import scale\n",
    "from sklearn.preprocessing import OneHotEncoder\n",
    "from sklearn.preprocessing import LabelEncoder\n",
    "\n",
    "import sklearn.preprocessing\n",
    "\n",
    "from sklearn.model_selection import train_test_split\n",
    "from sklearn import model_selection\n",
    "from sklearn import metrics\n",
    "\n",
    "mpl.rcParams['font.family'] = \"serif\"\n",
    "mpl.rcParams['text.usetex'] = True\n",
    "mpl.rcParams['ytick.right'] = True\n",
    "mpl.rcParams['ytick.direction'] = \"in\"\n",
    "mpl.rcParams['xtick.top'] = True\n",
    "mpl.rcParams['xtick.direction'] = \"in\"\n",
    "mpl.rcParams['axes.titlesize'] = 20\n",
    "mpl.rcParams['axes.labelsize'] = 20\n",
    "mpl.rcParams['xtick.labelsize'] = 16\n",
    "mpl.rcParams['ytick.labelsize'] = 16\n",
    "mpl.rcParams['legend.fontsize'] = 20\n",
    "mpl.rcParams['figure.dpi'] = 100\n",
    "mpl.rcParams['savefig.dpi'] = 100\n",
    "mpl.rcParams['figure.figsize'] = (6,4)\n",
    "plt.rcParams['axes.labelweight'] = 'bold'\n",
    "mpl.rcParams['text.latex.preamble']=[r\"\\usepackage{amsmath}\"]    \n",
    "\n",
    "def y_by_x(self, y, x, width=1):\n",
    "    ''' Group dataframe values y by values x binned by width. Default binning of x is 1.\n",
    "    x and y can be column names or transformations interpretable by the eval method.  \n",
    "    '''\n",
    "    grps = self.eval(x).apply(lambda t: int(t/float(width))*float(width) if not pd.isna(t) else t) \n",
    "    values = self.eval(y)\n",
    "    return values.groupby(grps)\n",
    "\n",
    "pd.DataFrame.y_by_x = y_by_x\n",
    "\n",
    "def plot_pd_series(series, **kwargs):\n",
    "    plt.plot(series.index, series.values, **kwargs, marker='o')\n",
    "    \n",
    "def find_nearest_idx(array, value):\n",
    "    array = np.asarray(array)\n",
    "    idx = (np.abs(array - value)).argmin()\n",
    "    return idx"
   ]
  },
  {
   "cell_type": "code",
   "execution_count": 2,
   "metadata": {},
   "outputs": [
    {
     "name": "stderr",
     "output_type": "stream",
     "text": [
      "/Library/Frameworks/Python.framework/Versions/3.7/lib/python3.7/site-packages/IPython/core/interactiveshell.py:3049: DtypeWarning: Columns (104,113,122) have mixed types. Specify dtype option on import or set low_memory=False.\n",
      "  interactivity=interactivity, compiler=compiler, result=result)\n"
     ]
    }
   ],
   "source": [
    "injs = pd.read_csv('inj_data_final.csv')\n",
    "injs.drop(columns=['Unnamed: 0','Opp','Team'],inplace=True)"
   ]
  },
  {
   "cell_type": "code",
   "execution_count": 3,
   "metadata": {},
   "outputs": [],
   "source": [
    "enc = OneHotEncoder(sparse=False)\n",
    "vals = enc.fit_transform(injs[['Position','Pos3','Shoots']])\n",
    "cols = []\n",
    "for cat in enc.categories_:\n",
    "    cols = np.concatenate((cols,cat))\n",
    "oneHot_cols = pd.DataFrame(vals,columns=cols)\n",
    "injs = pd.concat((injs,oneHot_cols),axis=1)\n",
    "injs.fillna(value=0,inplace=True) #Fill NaNs with 0\n",
    "injs = injs.loc[injs['Name']!=0]"
   ]
  },
  {
   "cell_type": "code",
   "execution_count": 4,
   "metadata": {},
   "outputs": [],
   "source": [
    "col_dict = {}\n",
    "col_dict['Was_Injured?'] = 'Was_Injured'\n",
    "\n",
    "for c in injs.columns:\n",
    "    strng = c.replace(' ','_')\n",
    "    strng = strng.replace('.','')\n",
    "    strng = strng.replace('%','_per')\n",
    "    if strng != c:\n",
    "        col_dict[c] = strng\n",
    "\n",
    "injs.rename(columns=col_dict,inplace=True)    "
   ]
  },
  {
   "cell_type": "code",
   "execution_count": 5,
   "metadata": {},
   "outputs": [],
   "source": [
    "injs.drop(columns=['Position','Pos3','Shoots'],inplace=True)"
   ]
  },
  {
   "cell_type": "code",
   "execution_count": 6,
   "metadata": {},
   "outputs": [],
   "source": [
    "from sklearn.tree import DecisionTreeClassifier"
   ]
  },
  {
   "cell_type": "code",
   "execution_count": 7,
   "metadata": {},
   "outputs": [
    {
     "data": {
      "text/plain": [
       "DecisionTreeClassifier()"
      ]
     },
     "execution_count": 7,
     "metadata": {},
     "output_type": "execute_result"
    }
   ],
   "source": [
    "y = injs['Was_Injured']\n",
    "X = injs.drop(columns=['Was_Injured','Dist_Feet_Av_7','Dist_Feet_Av_14','Dist_Feet_Av_21','Date','Name'])\n",
    "\n",
    "X_train, X_test, y_train, y_test = train_test_split(X, y, test_size=0.25)\n",
    "\n",
    "clf = DecisionTreeClassifier()\n",
    "clf.fit(X_train,y_train)"
   ]
  },
  {
   "cell_type": "code",
   "execution_count": 9,
   "metadata": {},
   "outputs": [],
   "source": [
    "predicted = clf.predict(X_test)"
   ]
  },
  {
   "cell_type": "code",
   "execution_count": 10,
   "metadata": {},
   "outputs": [
    {
     "name": "stdout",
     "output_type": "stream",
     "text": [
      "0.936816159672959\n",
      "              precision    recall  f1-score   support\n",
      "\n",
      "         0.0       0.97      0.96      0.97     32319\n",
      "         1.0       0.05      0.06      0.05       949\n",
      "\n",
      "    accuracy                           0.94     33268\n",
      "   macro avg       0.51      0.51      0.51     33268\n",
      "weighted avg       0.95      0.94      0.94     33268\n",
      "\n",
      "[[31108  1211]\n",
      " [  891    58]]\n",
      "0.05229936880072137\n"
     ]
    }
   ],
   "source": [
    "print(metrics.accuracy_score(y_test, predicted))\n",
    "print(metrics.classification_report(y_test, predicted))\n",
    "\n",
    "cm = metrics.confusion_matrix(y_test,predicted)\n",
    "print(cm)\n",
    "\n",
    "print(metrics.f1_score(y_test, predicted))"
   ]
  },
  {
   "cell_type": "code",
   "execution_count": 11,
   "metadata": {},
   "outputs": [],
   "source": [
    "coeffs = pd.DataFrame(zip(X.columns, np.transpose(clf.feature_importances_)))\n",
    "sort_df = coeffs.loc[coeffs[1].abs().argsort()[::-1]].reset_index()"
   ]
  },
  {
   "cell_type": "code",
   "execution_count": 12,
   "metadata": {},
   "outputs": [
    {
     "data": {
      "text/html": [
       "<div>\n",
       "<style scoped>\n",
       "    .dataframe tbody tr th:only-of-type {\n",
       "        vertical-align: middle;\n",
       "    }\n",
       "\n",
       "    .dataframe tbody tr th {\n",
       "        vertical-align: top;\n",
       "    }\n",
       "\n",
       "    .dataframe thead th {\n",
       "        text-align: right;\n",
       "    }\n",
       "</style>\n",
       "<table border=\"1\" class=\"dataframe\">\n",
       "  <thead>\n",
       "    <tr style=\"text-align: right;\">\n",
       "      <th></th>\n",
       "      <th>index</th>\n",
       "      <th>0</th>\n",
       "      <th>1</th>\n",
       "    </tr>\n",
       "  </thead>\n",
       "  <tbody>\n",
       "    <tr>\n",
       "      <th>0</th>\n",
       "      <td>2</td>\n",
       "      <td>Age</td>\n",
       "      <td>0.027593</td>\n",
       "    </tr>\n",
       "    <tr>\n",
       "      <th>1</th>\n",
       "      <td>45</td>\n",
       "      <td>+/-_Av14</td>\n",
       "      <td>0.021291</td>\n",
       "    </tr>\n",
       "    <tr>\n",
       "      <th>2</th>\n",
       "      <td>67</td>\n",
       "      <td>+/-_Av21</td>\n",
       "      <td>0.018547</td>\n",
       "    </tr>\n",
       "    <tr>\n",
       "      <th>3</th>\n",
       "      <td>6</td>\n",
       "      <td>FG_per_Av7</td>\n",
       "      <td>0.016522</td>\n",
       "    </tr>\n",
       "    <tr>\n",
       "      <th>4</th>\n",
       "      <td>60</td>\n",
       "      <td>AST_Av21</td>\n",
       "      <td>0.015824</td>\n",
       "    </tr>\n",
       "    <tr>\n",
       "      <th>5</th>\n",
       "      <td>61</td>\n",
       "      <td>STL_Av21</td>\n",
       "      <td>0.015578</td>\n",
       "    </tr>\n",
       "    <tr>\n",
       "      <th>6</th>\n",
       "      <td>16</td>\n",
       "      <td>AST_Av7</td>\n",
       "      <td>0.015432</td>\n",
       "    </tr>\n",
       "    <tr>\n",
       "      <th>7</th>\n",
       "      <td>3</td>\n",
       "      <td>MP_Av7</td>\n",
       "      <td>0.014858</td>\n",
       "    </tr>\n",
       "    <tr>\n",
       "      <th>8</th>\n",
       "      <td>28</td>\n",
       "      <td>FG_per_Av14</td>\n",
       "      <td>0.014438</td>\n",
       "    </tr>\n",
       "    <tr>\n",
       "      <th>9</th>\n",
       "      <td>92</td>\n",
       "      <td>ann_inj_rate</td>\n",
       "      <td>0.014321</td>\n",
       "    </tr>\n",
       "    <tr>\n",
       "      <th>10</th>\n",
       "      <td>23</td>\n",
       "      <td>+/-_Av7</td>\n",
       "      <td>0.014001</td>\n",
       "    </tr>\n",
       "    <tr>\n",
       "      <th>11</th>\n",
       "      <td>63</td>\n",
       "      <td>TOV_Av21</td>\n",
       "      <td>0.013772</td>\n",
       "    </tr>\n",
       "    <tr>\n",
       "      <th>12</th>\n",
       "      <td>116</td>\n",
       "      <td>Avg_Speed_Def_Av_21</td>\n",
       "      <td>0.013594</td>\n",
       "    </tr>\n",
       "    <tr>\n",
       "      <th>13</th>\n",
       "      <td>22</td>\n",
       "      <td>GmSc_Av7</td>\n",
       "      <td>0.013538</td>\n",
       "    </tr>\n",
       "    <tr>\n",
       "      <th>14</th>\n",
       "      <td>38</td>\n",
       "      <td>AST_Av14</td>\n",
       "      <td>0.013296</td>\n",
       "    </tr>\n",
       "    <tr>\n",
       "      <th>15</th>\n",
       "      <td>107</td>\n",
       "      <td>Avg_Speed_Off_Av_14</td>\n",
       "      <td>0.013109</td>\n",
       "    </tr>\n",
       "    <tr>\n",
       "      <th>16</th>\n",
       "      <td>50</td>\n",
       "      <td>FG_per_Av21</td>\n",
       "      <td>0.012952</td>\n",
       "    </tr>\n",
       "    <tr>\n",
       "      <th>17</th>\n",
       "      <td>49</td>\n",
       "      <td>FGA_Av21</td>\n",
       "      <td>0.012862</td>\n",
       "    </tr>\n",
       "    <tr>\n",
       "      <th>18</th>\n",
       "      <td>37</td>\n",
       "      <td>TRB_Av14</td>\n",
       "      <td>0.012629</td>\n",
       "    </tr>\n",
       "    <tr>\n",
       "      <th>19</th>\n",
       "      <td>100</td>\n",
       "      <td>Avg_Speed_Def_Av_7</td>\n",
       "      <td>0.012564</td>\n",
       "    </tr>\n",
       "    <tr>\n",
       "      <th>20</th>\n",
       "      <td>115</td>\n",
       "      <td>Avg_Speed_Off_Av_21</td>\n",
       "      <td>0.012381</td>\n",
       "    </tr>\n",
       "    <tr>\n",
       "      <th>21</th>\n",
       "      <td>35</td>\n",
       "      <td>ORB_Av14</td>\n",
       "      <td>0.012370</td>\n",
       "    </tr>\n",
       "    <tr>\n",
       "      <th>22</th>\n",
       "      <td>64</td>\n",
       "      <td>PF_Av21</td>\n",
       "      <td>0.012252</td>\n",
       "    </tr>\n",
       "    <tr>\n",
       "      <th>23</th>\n",
       "      <td>47</td>\n",
       "      <td>MP_Av21</td>\n",
       "      <td>0.012170</td>\n",
       "    </tr>\n",
       "    <tr>\n",
       "      <th>24</th>\n",
       "      <td>57</td>\n",
       "      <td>ORB_Av21</td>\n",
       "      <td>0.011951</td>\n",
       "    </tr>\n",
       "    <tr>\n",
       "      <th>25</th>\n",
       "      <td>108</td>\n",
       "      <td>Avg_Speed_Def_Av_14</td>\n",
       "      <td>0.011799</td>\n",
       "    </tr>\n",
       "    <tr>\n",
       "      <th>26</th>\n",
       "      <td>66</td>\n",
       "      <td>GmSc_Av21</td>\n",
       "      <td>0.011757</td>\n",
       "    </tr>\n",
       "    <tr>\n",
       "      <th>27</th>\n",
       "      <td>15</td>\n",
       "      <td>TRB_Av7</td>\n",
       "      <td>0.011356</td>\n",
       "    </tr>\n",
       "    <tr>\n",
       "      <th>28</th>\n",
       "      <td>106</td>\n",
       "      <td>Avg_Speed_Av_14</td>\n",
       "      <td>0.011308</td>\n",
       "    </tr>\n",
       "    <tr>\n",
       "      <th>29</th>\n",
       "      <td>91</td>\n",
       "      <td>N_prev_injs</td>\n",
       "      <td>0.011238</td>\n",
       "    </tr>\n",
       "    <tr>\n",
       "      <th>...</th>\n",
       "      <td>...</td>\n",
       "      <td>...</td>\n",
       "      <td>...</td>\n",
       "    </tr>\n",
       "    <tr>\n",
       "      <th>108</th>\n",
       "      <td>83</td>\n",
       "      <td>STL_b2b</td>\n",
       "      <td>0.001802</td>\n",
       "    </tr>\n",
       "    <tr>\n",
       "      <th>109</th>\n",
       "      <td>87</td>\n",
       "      <td>PTS_b2b</td>\n",
       "      <td>0.001799</td>\n",
       "    </tr>\n",
       "    <tr>\n",
       "      <th>110</th>\n",
       "      <td>72</td>\n",
       "      <td>FG_per_b2b</td>\n",
       "      <td>0.001678</td>\n",
       "    </tr>\n",
       "    <tr>\n",
       "      <th>111</th>\n",
       "      <td>121</td>\n",
       "      <td>Point_Guard_and_Shooting_Guard</td>\n",
       "      <td>0.001391</td>\n",
       "    </tr>\n",
       "    <tr>\n",
       "      <th>112</th>\n",
       "      <td>123</td>\n",
       "      <td>Point_Guard_and_Small_Forward_and_Shooting_Guard</td>\n",
       "      <td>0.001281</td>\n",
       "    </tr>\n",
       "    <tr>\n",
       "      <th>113</th>\n",
       "      <td>85</td>\n",
       "      <td>TOV_b2b</td>\n",
       "      <td>0.001269</td>\n",
       "    </tr>\n",
       "    <tr>\n",
       "      <th>114</th>\n",
       "      <td>86</td>\n",
       "      <td>PF_b2b</td>\n",
       "      <td>0.001266</td>\n",
       "    </tr>\n",
       "    <tr>\n",
       "      <th>115</th>\n",
       "      <td>134</td>\n",
       "      <td>Wing</td>\n",
       "      <td>0.001142</td>\n",
       "    </tr>\n",
       "    <tr>\n",
       "      <th>116</th>\n",
       "      <td>80</td>\n",
       "      <td>DRB_b2b</td>\n",
       "      <td>0.001110</td>\n",
       "    </tr>\n",
       "    <tr>\n",
       "      <th>117</th>\n",
       "      <td>135</td>\n",
       "      <td>Left</td>\n",
       "      <td>0.001099</td>\n",
       "    </tr>\n",
       "    <tr>\n",
       "      <th>118</th>\n",
       "      <td>130</td>\n",
       "      <td>Small_Forward</td>\n",
       "      <td>0.001085</td>\n",
       "    </tr>\n",
       "    <tr>\n",
       "      <th>119</th>\n",
       "      <td>81</td>\n",
       "      <td>TRB_b2b</td>\n",
       "      <td>0.001077</td>\n",
       "    </tr>\n",
       "    <tr>\n",
       "      <th>120</th>\n",
       "      <td>79</td>\n",
       "      <td>ORB_b2b</td>\n",
       "      <td>0.000983</td>\n",
       "    </tr>\n",
       "    <tr>\n",
       "      <th>121</th>\n",
       "      <td>74</td>\n",
       "      <td>3PA_b2b</td>\n",
       "      <td>0.000936</td>\n",
       "    </tr>\n",
       "    <tr>\n",
       "      <th>122</th>\n",
       "      <td>120</td>\n",
       "      <td>Point_Guard</td>\n",
       "      <td>0.000927</td>\n",
       "    </tr>\n",
       "    <tr>\n",
       "      <th>123</th>\n",
       "      <td>137</td>\n",
       "      <td>Right</td>\n",
       "      <td>0.000921</td>\n",
       "    </tr>\n",
       "    <tr>\n",
       "      <th>124</th>\n",
       "      <td>129</td>\n",
       "      <td>Shooting_Guard</td>\n",
       "      <td>0.000898</td>\n",
       "    </tr>\n",
       "    <tr>\n",
       "      <th>125</th>\n",
       "      <td>73</td>\n",
       "      <td>3P_b2b</td>\n",
       "      <td>0.000817</td>\n",
       "    </tr>\n",
       "    <tr>\n",
       "      <th>126</th>\n",
       "      <td>76</td>\n",
       "      <td>FT_b2b</td>\n",
       "      <td>0.000810</td>\n",
       "    </tr>\n",
       "    <tr>\n",
       "      <th>127</th>\n",
       "      <td>128</td>\n",
       "      <td>Power_Forward_and_Small_Forward_and_Shooting_G...</td>\n",
       "      <td>0.000648</td>\n",
       "    </tr>\n",
       "    <tr>\n",
       "      <th>128</th>\n",
       "      <td>131</td>\n",
       "      <td>Small_Forward_and_Shooting_Guard</td>\n",
       "      <td>0.000596</td>\n",
       "    </tr>\n",
       "    <tr>\n",
       "      <th>129</th>\n",
       "      <td>119</td>\n",
       "      <td>Center_and_Power_Forward_and_Small_Forward</td>\n",
       "      <td>0.000493</td>\n",
       "    </tr>\n",
       "    <tr>\n",
       "      <th>130</th>\n",
       "      <td>125</td>\n",
       "      <td>Power_Forward_and_Point_Guard_and_Small_Forwar...</td>\n",
       "      <td>0.000449</td>\n",
       "    </tr>\n",
       "    <tr>\n",
       "      <th>131</th>\n",
       "      <td>118</td>\n",
       "      <td>Center_and_Power_Forward</td>\n",
       "      <td>0.000407</td>\n",
       "    </tr>\n",
       "    <tr>\n",
       "      <th>132</th>\n",
       "      <td>90</td>\n",
       "      <td>b2b</td>\n",
       "      <td>0.000263</td>\n",
       "    </tr>\n",
       "    <tr>\n",
       "      <th>133</th>\n",
       "      <td>132</td>\n",
       "      <td>Big</td>\n",
       "      <td>0.000233</td>\n",
       "    </tr>\n",
       "    <tr>\n",
       "      <th>134</th>\n",
       "      <td>133</td>\n",
       "      <td>Guard</td>\n",
       "      <td>0.000175</td>\n",
       "    </tr>\n",
       "    <tr>\n",
       "      <th>135</th>\n",
       "      <td>136</td>\n",
       "      <td>Left_Right</td>\n",
       "      <td>0.000098</td>\n",
       "    </tr>\n",
       "    <tr>\n",
       "      <th>136</th>\n",
       "      <td>126</td>\n",
       "      <td>Power_Forward_and_Shooting_Guard</td>\n",
       "      <td>0.000074</td>\n",
       "    </tr>\n",
       "    <tr>\n",
       "      <th>137</th>\n",
       "      <td>122</td>\n",
       "      <td>Point_Guard_and_Small_Forward</td>\n",
       "      <td>0.000000</td>\n",
       "    </tr>\n",
       "  </tbody>\n",
       "</table>\n",
       "<p>138 rows × 3 columns</p>\n",
       "</div>"
      ],
      "text/plain": [
       "     index                                                  0         1\n",
       "0        2                                                Age  0.027593\n",
       "1       45                                           +/-_Av14  0.021291\n",
       "2       67                                           +/-_Av21  0.018547\n",
       "3        6                                         FG_per_Av7  0.016522\n",
       "4       60                                           AST_Av21  0.015824\n",
       "5       61                                           STL_Av21  0.015578\n",
       "6       16                                            AST_Av7  0.015432\n",
       "7        3                                             MP_Av7  0.014858\n",
       "8       28                                        FG_per_Av14  0.014438\n",
       "9       92                                       ann_inj_rate  0.014321\n",
       "10      23                                            +/-_Av7  0.014001\n",
       "11      63                                           TOV_Av21  0.013772\n",
       "12     116                                Avg_Speed_Def_Av_21  0.013594\n",
       "13      22                                           GmSc_Av7  0.013538\n",
       "14      38                                           AST_Av14  0.013296\n",
       "15     107                                Avg_Speed_Off_Av_14  0.013109\n",
       "16      50                                        FG_per_Av21  0.012952\n",
       "17      49                                           FGA_Av21  0.012862\n",
       "18      37                                           TRB_Av14  0.012629\n",
       "19     100                                 Avg_Speed_Def_Av_7  0.012564\n",
       "20     115                                Avg_Speed_Off_Av_21  0.012381\n",
       "21      35                                           ORB_Av14  0.012370\n",
       "22      64                                            PF_Av21  0.012252\n",
       "23      47                                            MP_Av21  0.012170\n",
       "24      57                                           ORB_Av21  0.011951\n",
       "25     108                                Avg_Speed_Def_Av_14  0.011799\n",
       "26      66                                          GmSc_Av21  0.011757\n",
       "27      15                                            TRB_Av7  0.011356\n",
       "28     106                                    Avg_Speed_Av_14  0.011308\n",
       "29      91                                        N_prev_injs  0.011238\n",
       "..     ...                                                ...       ...\n",
       "108     83                                            STL_b2b  0.001802\n",
       "109     87                                            PTS_b2b  0.001799\n",
       "110     72                                         FG_per_b2b  0.001678\n",
       "111    121                     Point_Guard_and_Shooting_Guard  0.001391\n",
       "112    123   Point_Guard_and_Small_Forward_and_Shooting_Guard  0.001281\n",
       "113     85                                            TOV_b2b  0.001269\n",
       "114     86                                             PF_b2b  0.001266\n",
       "115    134                                               Wing  0.001142\n",
       "116     80                                            DRB_b2b  0.001110\n",
       "117    135                                               Left  0.001099\n",
       "118    130                                      Small_Forward  0.001085\n",
       "119     81                                            TRB_b2b  0.001077\n",
       "120     79                                            ORB_b2b  0.000983\n",
       "121     74                                            3PA_b2b  0.000936\n",
       "122    120                                        Point_Guard  0.000927\n",
       "123    137                                              Right  0.000921\n",
       "124    129                                     Shooting_Guard  0.000898\n",
       "125     73                                             3P_b2b  0.000817\n",
       "126     76                                             FT_b2b  0.000810\n",
       "127    128  Power_Forward_and_Small_Forward_and_Shooting_G...  0.000648\n",
       "128    131                   Small_Forward_and_Shooting_Guard  0.000596\n",
       "129    119         Center_and_Power_Forward_and_Small_Forward  0.000493\n",
       "130    125  Power_Forward_and_Point_Guard_and_Small_Forwar...  0.000449\n",
       "131    118                           Center_and_Power_Forward  0.000407\n",
       "132     90                                                b2b  0.000263\n",
       "133    132                                                Big  0.000233\n",
       "134    133                                              Guard  0.000175\n",
       "135    136                                         Left_Right  0.000098\n",
       "136    126                   Power_Forward_and_Shooting_Guard  0.000074\n",
       "137    122                      Point_Guard_and_Small_Forward  0.000000\n",
       "\n",
       "[138 rows x 3 columns]"
      ]
     },
     "execution_count": 12,
     "metadata": {},
     "output_type": "execute_result"
    }
   ],
   "source": [
    "sort_df"
   ]
  },
  {
   "cell_type": "markdown",
   "metadata": {},
   "source": [
    "### How do we use with just the $N$ best performing features?"
   ]
  },
  {
   "cell_type": "code",
   "execution_count": 13,
   "metadata": {},
   "outputs": [
    {
     "name": "stdout",
     "output_type": "stream",
     "text": [
      "10\n",
      "20\n",
      "30\n",
      "40\n",
      "50\n"
     ]
    }
   ],
   "source": [
    "N_features = [10,20,30,40,50]\n",
    "folds = 5\n",
    "f1_scores = np.zeros((len(N_features),folds))\n",
    "\n",
    "for i,N in enumerate(N_features):\n",
    "\n",
    "    X_slice = X[sort_df[0][:N]]\n",
    "    \n",
    "    print(N)\n",
    "    \n",
    "    model= DecisionTreeClassifier()\n",
    "    scores = model_selection.cross_validate(model, X_slice, y, cv=folds,scoring='f1')                   \n",
    "    f1_scores[i] = scores['test_score']"
   ]
  },
  {
   "cell_type": "code",
   "execution_count": 16,
   "metadata": {},
   "outputs": [
    {
     "data": {
      "text/plain": [
       "Text(0, 0.5, '$F_1$ score')"
      ]
     },
     "execution_count": 16,
     "metadata": {},
     "output_type": "execute_result"
    },
    {
     "data": {
      "image/png": "[encoded data removed]",
      "text/plain": [
       "<Figure size 1100x500 with 1 Axes>"
      ]
     },
     "metadata": {
      "needs_background": "light"
     },
     "output_type": "display_data"
    }
   ],
   "source": [
    "fig = plt.figure(figsize=(11,5))\n",
    "\n",
    "means = np.mean(f1_scores,axis=1)\n",
    "stds = np.std(f1_scores,axis=1)\n",
    "x = np.arange(0,len(N_features))\n",
    "plt.errorbar(x,means,yerr=stds,marker='o',capsize=5,lw=3,mec='k',ms=10)\n",
    "x_tick_locs = np.arange(0,len(N_features))\n",
    "\n",
    "plt.xticks(x_tick_locs,[\"%d\" %N for N in N_features])    \n",
    "\n",
    "plt.xlabel(\"Number of Features Used\")\n",
    "plt.ylabel(r'$F_1$ score')"
   ]
  },
  {
   "cell_type": "code",
   "execution_count": 17,
   "metadata": {},
   "outputs": [
    {
     "data": {
      "text/plain": [
       "63"
      ]
     },
     "execution_count": 17,
     "metadata": {},
     "output_type": "execute_result"
    }
   ],
   "source": [
    "clf.tree_.max_depth"
   ]
  },
  {
   "cell_type": "markdown",
   "metadata": {},
   "source": [
    "### Now we grid search"
   ]
  },
  {
   "cell_type": "code",
   "execution_count": 18,
   "metadata": {},
   "outputs": [],
   "source": [
    "X_train, X_test, y_train, y_test = train_test_split(X[sort_df[0][:30]], y, test_size=0.25)"
   ]
  },
  {
   "cell_type": "code",
   "execution_count": 19,
   "metadata": {
    "scrolled": true
   },
   "outputs": [
    {
     "name": "stdout",
     "output_type": "stream",
     "text": [
      "Fitting 5 folds for each of 336 candidates, totalling 1680 fits\n"
     ]
    },
    {
     "name": "stderr",
     "output_type": "stream",
     "text": [
      "[Parallel(n_jobs=6)]: Using backend LokyBackend with 6 concurrent workers.\n",
      "[Parallel(n_jobs=6)]: Done  20 tasks      | elapsed:   23.1s\n",
      "[Parallel(n_jobs=6)]: Done 116 tasks      | elapsed:  2.4min\n",
      "[Parallel(n_jobs=6)]: Done 276 tasks      | elapsed:  4.3min\n",
      "[Parallel(n_jobs=6)]: Done 500 tasks      | elapsed:  7.5min\n",
      "[Parallel(n_jobs=6)]: Done 788 tasks      | elapsed: 11.8min\n",
      "[Parallel(n_jobs=6)]: Done 1140 tasks      | elapsed: 15.8min\n",
      "[Parallel(n_jobs=6)]: Done 1556 tasks      | elapsed: 20.1min\n",
      "[Parallel(n_jobs=6)]: Done 1680 out of 1680 | elapsed: 21.2min finished\n"
     ]
    },
    {
     "data": {
      "text/plain": [
       "GridSearchCV(estimator=DecisionTreeClassifier(), n_jobs=6,\n",
       "             param_grid=[{'class_weight': [{0: 1, 1: 1}, {0: 1, 1: 3},\n",
       "                                           {0: 1, 1: 5}, {0: 1, 1: 10},\n",
       "                                           {0: 1, 1: 15}, {0: 1, 1: 20}],\n",
       "                          'max_depth': [None, 100, 50, 30, 20, 15, 10, 5],\n",
       "                          'min_samples_split': [2, 5, 10, 20, 30, 50, 75]}],\n",
       "             scoring='f1', verbose=3)"
      ]
     },
     "execution_count": 19,
     "metadata": {},
     "output_type": "execute_result"
    }
   ],
   "source": [
    "params = [{'class_weight' : [{0:1,1:1},{0:1,1:3},{0:1,1:5},{0:1,1:10},{0:1,1:15},{0:1,1:20}\\\n",
    "                    ,],'max_depth' : [None,100,50,30,20,15,10,5], 'min_samples_split' : [2,5,10,20,30,50,75]}]\n",
    "       \n",
    "model=DecisionTreeClassifier()\n",
    "\n",
    "clf = model_selection.GridSearchCV(model,params,scoring='f1',verbose=3,n_jobs=6)\n",
    "\n",
    "clf.fit(X_train,y_train)"
   ]
  },
  {
   "cell_type": "code",
   "execution_count": 21,
   "metadata": {},
   "outputs": [
    {
     "name": "stdout",
     "output_type": "stream",
     "text": [
      "0.08408843372736684 {'class_weight': {0: 1, 1: 20}, 'max_depth': 5, 'min_samples_split': 2}\n"
     ]
    }
   ],
   "source": [
    "print(clf.best_score_,clf.best_params_)"
   ]
  },
  {
   "cell_type": "code",
   "execution_count": 24,
   "metadata": {},
   "outputs": [
    {
     "name": "stdout",
     "output_type": "stream",
     "text": [
      "{'class_weight': {0: 1, 1: 1}, 'max_depth': 15, 'min_samples_split': 20} -36.177\n"
     ]
    }
   ],
   "source": [
    "print(clf.best_params_,clf.best_score_)"
   ]
  },
  {
   "cell_type": "code",
   "execution_count": 22,
   "metadata": {},
   "outputs": [],
   "source": [
    "predicted = clf.predict(X_test)"
   ]
  },
  {
   "cell_type": "code",
   "execution_count": 23,
   "metadata": {},
   "outputs": [
    {
     "name": "stdout",
     "output_type": "stream",
     "text": [
      "0.8890826018997234\n",
      "              precision    recall  f1-score   support\n",
      "\n",
      "         0.0       0.97      0.91      0.94     32290\n",
      "         1.0       0.06      0.20      0.10       978\n",
      "\n",
      "    accuracy                           0.89     33268\n",
      "   macro avg       0.52      0.55      0.52     33268\n",
      "weighted avg       0.95      0.89      0.92     33268\n",
      "\n",
      "[[29383  2907]\n",
      " [  783   195]]\n",
      "0.09558823529411765\n"
     ]
    }
   ],
   "source": [
    "print(metrics.accuracy_score(y_test, predicted))\n",
    "print(metrics.classification_report(y_test, predicted))\n",
    "\n",
    "cm = metrics.confusion_matrix(y_test,predicted)\n",
    "print(cm)\n",
    "\n",
    "print(metrics.f1_score(y_test, predicted))"
   ]
  },
  {
   "cell_type": "markdown",
   "metadata": {},
   "source": [
    "## Random Forest"
   ]
  },
  {
   "cell_type": "code",
   "execution_count": 24,
   "metadata": {},
   "outputs": [],
   "source": [
    "from sklearn.ensemble import RandomForestClassifier"
   ]
  },
  {
   "cell_type": "code",
   "execution_count": 25,
   "metadata": {},
   "outputs": [
    {
     "name": "stderr",
     "output_type": "stream",
     "text": [
      "[Parallel(n_jobs=-1)]: Using backend ThreadingBackend with 12 concurrent workers.\n",
      "[Parallel(n_jobs=-1)]: Done  26 tasks      | elapsed:    3.7s\n",
      "[Parallel(n_jobs=-1)]: Done 100 out of 100 | elapsed:   11.0s finished\n"
     ]
    },
    {
     "data": {
      "text/plain": [
       "RandomForestClassifier(n_jobs=-1, verbose=True)"
      ]
     },
     "execution_count": 25,
     "metadata": {},
     "output_type": "execute_result"
    }
   ],
   "source": [
    "y = injs['Was_Injured']\n",
    "X = injs.drop(columns=['Was_Injured','Dist_Feet_Av_7','Dist_Feet_Av_14','Dist_Feet_Av_21','Date','Name'])\n",
    "\n",
    "X_train, X_test, y_train, y_test = train_test_split(X, y, test_size=0.25)\n",
    "\n",
    "clf = RandomForestClassifier(n_jobs=-1,verbose=True)\n",
    "clf.fit(X_train,y_train)"
   ]
  },
  {
   "cell_type": "code",
   "execution_count": null,
   "metadata": {},
   "outputs": [],
   "source": [
    "predicted = clf.predict(X_test)"
   ]
  },
  {
   "cell_type": "code",
   "execution_count": 27,
   "metadata": {},
   "outputs": [
    {
     "name": "stdout",
     "output_type": "stream",
     "text": [
      "0.9708428519899002\n",
      "              precision    recall  f1-score   support\n",
      "\n",
      "         0.0       0.97      1.00      0.99     32298\n",
      "         1.0       0.00      0.00      0.00       970\n",
      "\n",
      "    accuracy                           0.97     33268\n",
      "   macro avg       0.49      0.50      0.49     33268\n",
      "weighted avg       0.94      0.97      0.96     33268\n",
      "\n",
      "[[32298     0]\n",
      " [  970     0]]\n",
      "0.0\n"
     ]
    },
    {
     "name": "stderr",
     "output_type": "stream",
     "text": [
      "/Library/Frameworks/Python.framework/Versions/3.7/lib/python3.7/site-packages/sklearn/metrics/_classification.py:1221: UndefinedMetricWarning: Precision and F-score are ill-defined and being set to 0.0 in labels with no predicted samples. Use `zero_division` parameter to control this behavior.\n",
      "  _warn_prf(average, modifier, msg_start, len(result))\n"
     ]
    }
   ],
   "source": [
    "print(metrics.accuracy_score(y_test, predicted))\n",
    "print(metrics.classification_report(y_test, predicted))\n",
    "\n",
    "cm = metrics.confusion_matrix(y_test,predicted)\n",
    "print(cm)\n",
    "\n",
    "print(metrics.f1_score(y_test, predicted))"
   ]
  },
  {
   "cell_type": "code",
   "execution_count": 28,
   "metadata": {},
   "outputs": [],
   "source": [
    "coeffs = pd.DataFrame(zip(X.columns, np.transpose(clf.feature_importances_)))\n",
    "sort_df = coeffs.loc[coeffs[1].abs().argsort()[::-1]].reset_index(drop=True)"
   ]
  },
  {
   "cell_type": "code",
   "execution_count": 29,
   "metadata": {},
   "outputs": [
    {
     "data": {
      "text/html": [
       "<div>\n",
       "<style scoped>\n",
       "    .dataframe tbody tr th:only-of-type {\n",
       "        vertical-align: middle;\n",
       "    }\n",
       "\n",
       "    .dataframe tbody tr th {\n",
       "        vertical-align: top;\n",
       "    }\n",
       "\n",
       "    .dataframe thead th {\n",
       "        text-align: right;\n",
       "    }\n",
       "</style>\n",
       "<table border=\"1\" class=\"dataframe\">\n",
       "  <thead>\n",
       "    <tr style=\"text-align: right;\">\n",
       "      <th></th>\n",
       "      <th>0</th>\n",
       "      <th>1</th>\n",
       "    </tr>\n",
       "  </thead>\n",
       "  <tbody>\n",
       "    <tr>\n",
       "      <th>0</th>\n",
       "      <td>Age</td>\n",
       "      <td>0.017985</td>\n",
       "    </tr>\n",
       "    <tr>\n",
       "      <th>1</th>\n",
       "      <td>+/-_Av7</td>\n",
       "      <td>0.014246</td>\n",
       "    </tr>\n",
       "    <tr>\n",
       "      <th>2</th>\n",
       "      <td>+/-_Av21</td>\n",
       "      <td>0.013703</td>\n",
       "    </tr>\n",
       "    <tr>\n",
       "      <th>3</th>\n",
       "      <td>+/-_Av14</td>\n",
       "      <td>0.013477</td>\n",
       "    </tr>\n",
       "    <tr>\n",
       "      <th>4</th>\n",
       "      <td>FG_per_Av21</td>\n",
       "      <td>0.012531</td>\n",
       "    </tr>\n",
       "    <tr>\n",
       "      <th>5</th>\n",
       "      <td>GmSc_Av21</td>\n",
       "      <td>0.012485</td>\n",
       "    </tr>\n",
       "    <tr>\n",
       "      <th>6</th>\n",
       "      <td>GmSc_Av7</td>\n",
       "      <td>0.012473</td>\n",
       "    </tr>\n",
       "    <tr>\n",
       "      <th>7</th>\n",
       "      <td>N_prev_injs</td>\n",
       "      <td>0.012280</td>\n",
       "    </tr>\n",
       "    <tr>\n",
       "      <th>8</th>\n",
       "      <td>PF_Av21</td>\n",
       "      <td>0.012116</td>\n",
       "    </tr>\n",
       "    <tr>\n",
       "      <th>9</th>\n",
       "      <td>Avg_Speed_Def_Av_7</td>\n",
       "      <td>0.012067</td>\n",
       "    </tr>\n",
       "    <tr>\n",
       "      <th>10</th>\n",
       "      <td>Avg_Speed_Off_Av_7</td>\n",
       "      <td>0.012004</td>\n",
       "    </tr>\n",
       "    <tr>\n",
       "      <th>11</th>\n",
       "      <td>ann_inj_rate</td>\n",
       "      <td>0.011992</td>\n",
       "    </tr>\n",
       "    <tr>\n",
       "      <th>12</th>\n",
       "      <td>Avg_Speed_Off_Av_14</td>\n",
       "      <td>0.011978</td>\n",
       "    </tr>\n",
       "    <tr>\n",
       "      <th>13</th>\n",
       "      <td>GmSc_Av14</td>\n",
       "      <td>0.011950</td>\n",
       "    </tr>\n",
       "    <tr>\n",
       "      <th>14</th>\n",
       "      <td>Avg_Speed_Off_Av_21</td>\n",
       "      <td>0.011941</td>\n",
       "    </tr>\n",
       "    <tr>\n",
       "      <th>15</th>\n",
       "      <td>MP_Av21</td>\n",
       "      <td>0.011867</td>\n",
       "    </tr>\n",
       "    <tr>\n",
       "      <th>16</th>\n",
       "      <td>Avg_Speed_Def_Av_21</td>\n",
       "      <td>0.011798</td>\n",
       "    </tr>\n",
       "    <tr>\n",
       "      <th>17</th>\n",
       "      <td>MP_Av7</td>\n",
       "      <td>0.011793</td>\n",
       "    </tr>\n",
       "    <tr>\n",
       "      <th>18</th>\n",
       "      <td>FG_per_Av14</td>\n",
       "      <td>0.011704</td>\n",
       "    </tr>\n",
       "    <tr>\n",
       "      <th>19</th>\n",
       "      <td>FG_per_Av7</td>\n",
       "      <td>0.011651</td>\n",
       "    </tr>\n",
       "    <tr>\n",
       "      <th>20</th>\n",
       "      <td>Avg_Speed_Av_14</td>\n",
       "      <td>0.011644</td>\n",
       "    </tr>\n",
       "    <tr>\n",
       "      <th>21</th>\n",
       "      <td>MP_Av14</td>\n",
       "      <td>0.011613</td>\n",
       "    </tr>\n",
       "    <tr>\n",
       "      <th>22</th>\n",
       "      <td>Avg_Speed_Def_Av_14</td>\n",
       "      <td>0.011477</td>\n",
       "    </tr>\n",
       "    <tr>\n",
       "      <th>23</th>\n",
       "      <td>Avg_Speed_Av_7</td>\n",
       "      <td>0.011342</td>\n",
       "    </tr>\n",
       "    <tr>\n",
       "      <th>24</th>\n",
       "      <td>AST_Av21</td>\n",
       "      <td>0.011223</td>\n",
       "    </tr>\n",
       "    <tr>\n",
       "      <th>25</th>\n",
       "      <td>FGA_Av21</td>\n",
       "      <td>0.011166</td>\n",
       "    </tr>\n",
       "    <tr>\n",
       "      <th>26</th>\n",
       "      <td>TOV_Av21</td>\n",
       "      <td>0.011148</td>\n",
       "    </tr>\n",
       "    <tr>\n",
       "      <th>27</th>\n",
       "      <td>Avg_Speed_Av_21</td>\n",
       "      <td>0.011060</td>\n",
       "    </tr>\n",
       "    <tr>\n",
       "      <th>28</th>\n",
       "      <td>Dist_Miles_Av_7</td>\n",
       "      <td>0.010992</td>\n",
       "    </tr>\n",
       "    <tr>\n",
       "      <th>29</th>\n",
       "      <td>PTS_Av21</td>\n",
       "      <td>0.010904</td>\n",
       "    </tr>\n",
       "    <tr>\n",
       "      <th>...</th>\n",
       "      <td>...</td>\n",
       "      <td>...</td>\n",
       "    </tr>\n",
       "    <tr>\n",
       "      <th>108</th>\n",
       "      <td>PF_b2b</td>\n",
       "      <td>0.001542</td>\n",
       "    </tr>\n",
       "    <tr>\n",
       "      <th>109</th>\n",
       "      <td>Small_Forward_and_Shooting_Guard</td>\n",
       "      <td>0.001482</td>\n",
       "    </tr>\n",
       "    <tr>\n",
       "      <th>110</th>\n",
       "      <td>3P_per_b2b</td>\n",
       "      <td>0.001431</td>\n",
       "    </tr>\n",
       "    <tr>\n",
       "      <th>111</th>\n",
       "      <td>FT_per_b2b</td>\n",
       "      <td>0.001409</td>\n",
       "    </tr>\n",
       "    <tr>\n",
       "      <th>112</th>\n",
       "      <td>BLK_b2b</td>\n",
       "      <td>0.001379</td>\n",
       "    </tr>\n",
       "    <tr>\n",
       "      <th>113</th>\n",
       "      <td>STL_b2b</td>\n",
       "      <td>0.001352</td>\n",
       "    </tr>\n",
       "    <tr>\n",
       "      <th>114</th>\n",
       "      <td>FTA_b2b</td>\n",
       "      <td>0.001326</td>\n",
       "    </tr>\n",
       "    <tr>\n",
       "      <th>115</th>\n",
       "      <td>Power_Forward_and_Small_Forward</td>\n",
       "      <td>0.001326</td>\n",
       "    </tr>\n",
       "    <tr>\n",
       "      <th>116</th>\n",
       "      <td>Wing</td>\n",
       "      <td>0.001325</td>\n",
       "    </tr>\n",
       "    <tr>\n",
       "      <th>117</th>\n",
       "      <td>Left</td>\n",
       "      <td>0.001321</td>\n",
       "    </tr>\n",
       "    <tr>\n",
       "      <th>118</th>\n",
       "      <td>Power_Forward</td>\n",
       "      <td>0.001255</td>\n",
       "    </tr>\n",
       "    <tr>\n",
       "      <th>119</th>\n",
       "      <td>Small_Forward</td>\n",
       "      <td>0.001250</td>\n",
       "    </tr>\n",
       "    <tr>\n",
       "      <th>120</th>\n",
       "      <td>Point_Guard_and_Shooting_Guard</td>\n",
       "      <td>0.001249</td>\n",
       "    </tr>\n",
       "    <tr>\n",
       "      <th>121</th>\n",
       "      <td>FT_b2b</td>\n",
       "      <td>0.001247</td>\n",
       "    </tr>\n",
       "    <tr>\n",
       "      <th>122</th>\n",
       "      <td>3P_b2b</td>\n",
       "      <td>0.001229</td>\n",
       "    </tr>\n",
       "    <tr>\n",
       "      <th>123</th>\n",
       "      <td>Shooting_Guard</td>\n",
       "      <td>0.001144</td>\n",
       "    </tr>\n",
       "    <tr>\n",
       "      <th>124</th>\n",
       "      <td>Guard</td>\n",
       "      <td>0.001072</td>\n",
       "    </tr>\n",
       "    <tr>\n",
       "      <th>125</th>\n",
       "      <td>Right</td>\n",
       "      <td>0.001012</td>\n",
       "    </tr>\n",
       "    <tr>\n",
       "      <th>126</th>\n",
       "      <td>Big</td>\n",
       "      <td>0.000939</td>\n",
       "    </tr>\n",
       "    <tr>\n",
       "      <th>127</th>\n",
       "      <td>Center_and_Power_Forward</td>\n",
       "      <td>0.000936</td>\n",
       "    </tr>\n",
       "    <tr>\n",
       "      <th>128</th>\n",
       "      <td>Point_Guard</td>\n",
       "      <td>0.000920</td>\n",
       "    </tr>\n",
       "    <tr>\n",
       "      <th>129</th>\n",
       "      <td>Center</td>\n",
       "      <td>0.000906</td>\n",
       "    </tr>\n",
       "    <tr>\n",
       "      <th>130</th>\n",
       "      <td>Power_Forward_and_Small_Forward_and_Shooting_G...</td>\n",
       "      <td>0.000850</td>\n",
       "    </tr>\n",
       "    <tr>\n",
       "      <th>131</th>\n",
       "      <td>Point_Guard_and_Small_Forward_and_Shooting_Guard</td>\n",
       "      <td>0.000606</td>\n",
       "    </tr>\n",
       "    <tr>\n",
       "      <th>132</th>\n",
       "      <td>b2b</td>\n",
       "      <td>0.000488</td>\n",
       "    </tr>\n",
       "    <tr>\n",
       "      <th>133</th>\n",
       "      <td>Center_and_Power_Forward_and_Small_Forward</td>\n",
       "      <td>0.000464</td>\n",
       "    </tr>\n",
       "    <tr>\n",
       "      <th>134</th>\n",
       "      <td>Left_Right</td>\n",
       "      <td>0.000134</td>\n",
       "    </tr>\n",
       "    <tr>\n",
       "      <th>135</th>\n",
       "      <td>Power_Forward_and_Shooting_Guard</td>\n",
       "      <td>0.000112</td>\n",
       "    </tr>\n",
       "    <tr>\n",
       "      <th>136</th>\n",
       "      <td>Power_Forward_and_Point_Guard_and_Small_Forwar...</td>\n",
       "      <td>0.000106</td>\n",
       "    </tr>\n",
       "    <tr>\n",
       "      <th>137</th>\n",
       "      <td>Point_Guard_and_Small_Forward</td>\n",
       "      <td>0.000060</td>\n",
       "    </tr>\n",
       "  </tbody>\n",
       "</table>\n",
       "<p>138 rows × 2 columns</p>\n",
       "</div>"
      ],
      "text/plain": [
       "                                                     0         1\n",
       "0                                                  Age  0.017985\n",
       "1                                              +/-_Av7  0.014246\n",
       "2                                             +/-_Av21  0.013703\n",
       "3                                             +/-_Av14  0.013477\n",
       "4                                          FG_per_Av21  0.012531\n",
       "5                                            GmSc_Av21  0.012485\n",
       "6                                             GmSc_Av7  0.012473\n",
       "7                                          N_prev_injs  0.012280\n",
       "8                                              PF_Av21  0.012116\n",
       "9                                   Avg_Speed_Def_Av_7  0.012067\n",
       "10                                  Avg_Speed_Off_Av_7  0.012004\n",
       "11                                        ann_inj_rate  0.011992\n",
       "12                                 Avg_Speed_Off_Av_14  0.011978\n",
       "13                                           GmSc_Av14  0.011950\n",
       "14                                 Avg_Speed_Off_Av_21  0.011941\n",
       "15                                             MP_Av21  0.011867\n",
       "16                                 Avg_Speed_Def_Av_21  0.011798\n",
       "17                                              MP_Av7  0.011793\n",
       "18                                         FG_per_Av14  0.011704\n",
       "19                                          FG_per_Av7  0.011651\n",
       "20                                     Avg_Speed_Av_14  0.011644\n",
       "21                                             MP_Av14  0.011613\n",
       "22                                 Avg_Speed_Def_Av_14  0.011477\n",
       "23                                      Avg_Speed_Av_7  0.011342\n",
       "24                                            AST_Av21  0.011223\n",
       "25                                            FGA_Av21  0.011166\n",
       "26                                            TOV_Av21  0.011148\n",
       "27                                     Avg_Speed_Av_21  0.011060\n",
       "28                                     Dist_Miles_Av_7  0.010992\n",
       "29                                            PTS_Av21  0.010904\n",
       "..                                                 ...       ...\n",
       "108                                             PF_b2b  0.001542\n",
       "109                   Small_Forward_and_Shooting_Guard  0.001482\n",
       "110                                         3P_per_b2b  0.001431\n",
       "111                                         FT_per_b2b  0.001409\n",
       "112                                            BLK_b2b  0.001379\n",
       "113                                            STL_b2b  0.001352\n",
       "114                                            FTA_b2b  0.001326\n",
       "115                    Power_Forward_and_Small_Forward  0.001326\n",
       "116                                               Wing  0.001325\n",
       "117                                               Left  0.001321\n",
       "118                                      Power_Forward  0.001255\n",
       "119                                      Small_Forward  0.001250\n",
       "120                     Point_Guard_and_Shooting_Guard  0.001249\n",
       "121                                             FT_b2b  0.001247\n",
       "122                                             3P_b2b  0.001229\n",
       "123                                     Shooting_Guard  0.001144\n",
       "124                                              Guard  0.001072\n",
       "125                                              Right  0.001012\n",
       "126                                                Big  0.000939\n",
       "127                           Center_and_Power_Forward  0.000936\n",
       "128                                        Point_Guard  0.000920\n",
       "129                                             Center  0.000906\n",
       "130  Power_Forward_and_Small_Forward_and_Shooting_G...  0.000850\n",
       "131   Point_Guard_and_Small_Forward_and_Shooting_Guard  0.000606\n",
       "132                                                b2b  0.000488\n",
       "133         Center_and_Power_Forward_and_Small_Forward  0.000464\n",
       "134                                         Left_Right  0.000134\n",
       "135                   Power_Forward_and_Shooting_Guard  0.000112\n",
       "136  Power_Forward_and_Point_Guard_and_Small_Forwar...  0.000106\n",
       "137                      Point_Guard_and_Small_Forward  0.000060\n",
       "\n",
       "[138 rows x 2 columns]"
      ]
     },
     "execution_count": 29,
     "metadata": {},
     "output_type": "execute_result"
    }
   ],
   "source": [
    "sort_df"
   ]
  },
  {
   "cell_type": "code",
   "execution_count": 38,
   "metadata": {},
   "outputs": [
    {
     "name": "stdout",
     "output_type": "stream",
     "text": [
      "10\n",
      "20\n",
      "30\n",
      "40\n",
      "50\n"
     ]
    }
   ],
   "source": [
    "N_features = [10,20,30,40,50]\n",
    "folds = 5\n",
    "f1_scores = np.zeros((len(N_features),folds))\n",
    "\n",
    "for i,N in enumerate(N_features):\n",
    "\n",
    "    X_slice = X[sort_df[0][:N]]\n",
    "    \n",
    "    print(N)\n",
    "    \n",
    "    model= DecisionTreeClassifier()\n",
    "    scores = model_selection.cross_validate(model, X_slice, y, cv=folds,scoring='f1')                   \n",
    "    f1_scores[i] = scores['test_score']"
   ]
  },
  {
   "cell_type": "markdown",
   "metadata": {},
   "source": [
    "### Now we grid search"
   ]
  },
  {
   "cell_type": "code",
   "execution_count": 42,
   "metadata": {},
   "outputs": [],
   "source": [
    "X_train, X_test, y_train, y_test = train_test_split(X[sort_df[0][:30]], y, test_size=0.25)"
   ]
  },
  {
   "cell_type": "code",
   "execution_count": 44,
   "metadata": {},
   "outputs": [
    {
     "name": "stdout",
     "output_type": "stream",
     "text": [
      "Fitting 5 folds for each of 42 candidates, totalling 210 fits\n"
     ]
    },
    {
     "name": "stderr",
     "output_type": "stream",
     "text": [
      "[Parallel(n_jobs=12)]: Using backend LokyBackend with 12 concurrent workers.\n",
      "[Parallel(n_jobs=12)]: Done   8 tasks      | elapsed:  2.4min\n",
      "[Parallel(n_jobs=12)]: Done 104 tasks      | elapsed: 20.8min\n",
      "[Parallel(n_jobs=12)]: Done 210 out of 210 | elapsed: 29.4min finished\n"
     ]
    },
    {
     "data": {
      "text/plain": [
       "GridSearchCV(estimator=RandomForestClassifier(n_jobs=12), n_jobs=12,\n",
       "             param_grid=[{'max_depth': [None, 50, 30, 20, 15, 10, 5],\n",
       "                          'min_samples_split': [2, 5, 10, 20, 30, 50]}],\n",
       "             scoring='roc_auc', verbose=3)"
      ]
     },
     "execution_count": 44,
     "metadata": {},
     "output_type": "execute_result"
    }
   ],
   "source": [
    "params = [{'max_depth' : [None,50,30,20,15,10,5], 'min_samples_split' : [2,5,10,20,30,50]}]\n",
    "       \n",
    "model = RandomForestClassifier(n_jobs=12)\n",
    "\n",
    "clf = model_selection.GridSearchCV(model,params,scoring='roc_auc',verbose=3,n_jobs=12)\n",
    "\n",
    "clf.fit(X_train,y_train)"
   ]
  },
  {
   "cell_type": "code",
   "execution_count": 46,
   "metadata": {},
   "outputs": [
    {
     "name": "stdout",
     "output_type": "stream",
     "text": [
      "0.6260586020913522 {'max_depth': 10, 'min_samples_split': 50}\n"
     ]
    }
   ],
   "source": [
    "print(clf.best_score_,clf.best_params_)"
   ]
  },
  {
   "cell_type": "code",
   "execution_count": 47,
   "metadata": {},
   "outputs": [],
   "source": [
    "predicted = clf.predict(X_test)\n",
    "probs = clf.predict_proba(X_test)"
   ]
  },
  {
   "cell_type": "code",
   "execution_count": 36,
   "metadata": {},
   "outputs": [
    {
     "data": {
      "text/plain": [
       "{'max_depth': 10, 'min_samples_split': 20}"
      ]
     },
     "execution_count": 36,
     "metadata": {},
     "output_type": "execute_result"
    }
   ],
   "source": [
    "clf.best_params_"
   ]
  },
  {
   "cell_type": "code",
   "execution_count": 51,
   "metadata": {},
   "outputs": [
    {
     "name": "stdout",
     "output_type": "stream",
     "text": [
      "0.9720452086088734\n",
      "              precision    recall  f1-score   support\n",
      "\n",
      "         0.0       0.97      1.00      0.99     32338\n",
      "         1.0       0.00      0.00      0.00       930\n",
      "\n",
      "    accuracy                           0.97     33268\n",
      "   macro avg       0.49      0.50      0.49     33268\n",
      "weighted avg       0.94      0.97      0.96     33268\n",
      "\n",
      "[[32338     0]\n",
      " [  930     0]]\n",
      "0.6137753646464061\n"
     ]
    },
    {
     "name": "stderr",
     "output_type": "stream",
     "text": [
      "/Library/Frameworks/Python.framework/Versions/3.7/lib/python3.7/site-packages/sklearn/metrics/_classification.py:1221: UndefinedMetricWarning: Precision and F-score are ill-defined and being set to 0.0 in labels with no predicted samples. Use `zero_division` parameter to control this behavior.\n",
      "  _warn_prf(average, modifier, msg_start, len(result))\n"
     ]
    }
   ],
   "source": [
    "print(metrics.accuracy_score(y_test, predicted))\n",
    "print(metrics.classification_report(y_test, predicted))\n",
    "\n",
    "cm = metrics.confusion_matrix(y_test,predicted)\n",
    "roc = metrics.roc_auc_score(y_test,probs[:,1])\n",
    "print(cm)\n",
    "print(roc)"
   ]
  },
  {
   "cell_type": "code",
   "execution_count": 52,
   "metadata": {},
   "outputs": [
    {
     "data": {
      "image/png": "[encoded data removed]",
      "text/plain": [
       "<Figure size 600x400 with 2 Axes>"
      ]
     },
     "metadata": {
      "needs_background": "light"
     },
     "output_type": "display_data"
    }
   ],
   "source": [
    "from matplotlib.collections import LineCollection\n",
    "\n",
    "fpr, tpr, thresholds = metrics.roc_curve(y_test,probs[:,1])\n",
    "\n",
    "fig = plt.figure()\n",
    "\n",
    "# plt.plot(fpr,tpr)\n",
    "plt.plot(fpr,fpr,linestyle='dashed')\n",
    "\n",
    "plt.xlabel(\"FPR\")\n",
    "plt.ylabel(\"TPR\")\n",
    "\n",
    "plt.axhline(y=0.5,color='r',linestyle='dashed')\n",
    "plt.axhline(y=0.6,color='r',linestyle='dashed')\n",
    "\n",
    "points = np.array([fpr, tpr]).T.reshape(-1, 1, 2)\n",
    "segments = np.concatenate([points[:-1], points[1:]], axis=1)\n",
    "\n",
    "norm = plt.Normalize(thresholds.min(), thresholds[np.where(tpr<0.01)[0][-1]])\n",
    "lc = LineCollection(segments, cmap='viridis', norm=norm)\n",
    "# Set the values used for colormapping\n",
    "lc.set_array(thresholds)\n",
    "lc.set_linewidth(2)\n",
    "line = plt.gca().add_collection(lc)\n",
    "cb = fig.colorbar(line, ax=plt.gca())\n",
    "cb.set_label('Probability Threshold')\n",
    "\n",
    "# plt.axis([0,0.1,0,0.1])"
   ]
  },
  {
   "cell_type": "markdown",
   "metadata": {},
   "source": [
    "## SVM"
   ]
  },
  {
   "cell_type": "code",
   "execution_count": 13,
   "metadata": {},
   "outputs": [],
   "source": [
    "from sklearn.svm import SVC"
   ]
  },
  {
   "cell_type": "code",
   "execution_count": 15,
   "metadata": {},
   "outputs": [
    {
     "name": "stdout",
     "output_type": "stream",
     "text": [
      "[LibSVM]"
     ]
    },
    {
     "data": {
      "text/plain": [
       "SVC(verbose=True)"
      ]
     },
     "execution_count": 15,
     "metadata": {},
     "output_type": "execute_result"
    }
   ],
   "source": [
    "y = injs['Was_Injured']\n",
    "X = injs[['Age', 'MP_Av14', '3P_Av14', '3PA_Av14', 'FTA_Av14', 'DRB_Av14',\n",
    "       'MP_Av21', 'FTA_Av21', 'FT_per_Av21', 'DRB_Av21', 'FTA_b2b',\n",
    "       'FT_per_b2b', 'N_prev_injs', 'W_Av_7', 'L_Av_7', 'Dist_Miles_Off_Av_7',\n",
    "       'W_Av_14', 'L_Av_14', 'Dist_Miles_Def_Av_14', 'Avg_Speed_Off_Av_14',\n",
    "       'L_Av_21', 'Dist_Miles_Av_21', 'Dist_Miles_Def_Av_21',\n",
    "       'Avg_Speed_Off_Av_21']]\n",
    "\n",
    "X_train, X_test, y_train, y_test = train_test_split(X, y, test_size=0.5)\n",
    "scaler = sklearn.preprocessing.StandardScaler().fit(X_train)\n",
    "X_train = scaler.transform(X_train)\n",
    "X_test = scaler.transform(X_test)\n",
    "\n",
    "clf = SVC(verbose=True,kernel='rbf')\n",
    "clf.fit(X_train,y_train)"
   ]
  },
  {
   "cell_type": "code",
   "execution_count": 16,
   "metadata": {},
   "outputs": [],
   "source": [
    "predicted = clf.predict(X_test)"
   ]
  },
  {
   "cell_type": "code",
   "execution_count": 17,
   "metadata": {},
   "outputs": [
    {
     "name": "stdout",
     "output_type": "stream",
     "text": [
      "0.9698358783215102\n",
      "              precision    recall  f1-score   support\n",
      "\n",
      "         0.0       0.97      1.00      0.98     64529\n",
      "         1.0       0.00      0.00      0.00      2007\n",
      "\n",
      "    accuracy                           0.97     66536\n",
      "   macro avg       0.48      0.50      0.49     66536\n",
      "weighted avg       0.94      0.97      0.95     66536\n",
      "\n",
      "[[64529     0]\n",
      " [ 2007     0]]\n",
      "0.0\n"
     ]
    },
    {
     "name": "stderr",
     "output_type": "stream",
     "text": [
      "/Library/Frameworks/Python.framework/Versions/3.7/lib/python3.7/site-packages/sklearn/metrics/_classification.py:1221: UndefinedMetricWarning: Precision and F-score are ill-defined and being set to 0.0 in labels with no predicted samples. Use `zero_division` parameter to control this behavior.\n",
      "  _warn_prf(average, modifier, msg_start, len(result))\n"
     ]
    }
   ],
   "source": [
    "print(metrics.accuracy_score(y_test, predicted))\n",
    "print(metrics.classification_report(y_test, predicted))\n",
    "\n",
    "cm = metrics.confusion_matrix(y_test,predicted)\n",
    "print(cm)\n",
    "\n",
    "print(metrics.f1_score(y_test, predicted))"
   ]
  },
  {
   "cell_type": "markdown",
   "metadata": {},
   "source": [
    "### Try with moderate class weight"
   ]
  },
  {
   "cell_type": "code",
   "execution_count": 21,
   "metadata": {},
   "outputs": [
    {
     "name": "stdout",
     "output_type": "stream",
     "text": [
      "[LibSVM]"
     ]
    },
    {
     "data": {
      "text/plain": [
       "SVC(class_weight={0: 1, 1: 4.889}, verbose=True)"
      ]
     },
     "execution_count": 21,
     "metadata": {},
     "output_type": "execute_result"
    }
   ],
   "source": [
    "games_added = 5.889 - 1\n",
    "\n",
    "y = injs['Was_Injured']\n",
    "X = injs[['Age', 'MP_Av14', '3P_Av14', '3PA_Av14', 'FTA_Av14', 'DRB_Av14',\n",
    "       'MP_Av21', 'FTA_Av21', 'FT_per_Av21', 'DRB_Av21', 'FTA_b2b',\n",
    "       'FT_per_b2b', 'N_prev_injs', 'W_Av_7', 'L_Av_7', 'Dist_Miles_Off_Av_7',\n",
    "       'W_Av_14', 'L_Av_14', 'Dist_Miles_Def_Av_14', 'Avg_Speed_Off_Av_14',\n",
    "       'L_Av_21', 'Dist_Miles_Av_21', 'Dist_Miles_Def_Av_21',\n",
    "       'Avg_Speed_Off_Av_21']]\n",
    "\n",
    "X_train, X_test, y_train, y_test = train_test_split(X, y, test_size=0.25)\n",
    "scaler = sklearn.preprocessing.StandardScaler().fit(X_train)\n",
    "X_train = scaler.transform(X_train)\n",
    "X_test = scaler.transform(X_test)\n",
    "\n",
    "clf = SVC(verbose=True,kernel='rbf',class_weight={0:1,1:games_added})\n",
    "clf.fit(X_train,y_train)"
   ]
  },
  {
   "cell_type": "code",
   "execution_count": 22,
   "metadata": {},
   "outputs": [],
   "source": [
    "predicted = clf.predict(X_test)"
   ]
  },
  {
   "cell_type": "code",
   "execution_count": 23,
   "metadata": {},
   "outputs": [
    {
     "name": "stdout",
     "output_type": "stream",
     "text": [
      "0.9697607310328243\n",
      "              precision    recall  f1-score   support\n",
      "\n",
      "         0.0       0.97      1.00      0.98     32264\n",
      "         1.0       0.00      0.00      0.00      1004\n",
      "\n",
      "    accuracy                           0.97     33268\n",
      "   macro avg       0.48      0.50      0.49     33268\n",
      "weighted avg       0.94      0.97      0.95     33268\n",
      "\n",
      "[[32262     2]\n",
      " [ 1004     0]]\n",
      "0.0\n"
     ]
    }
   ],
   "source": [
    "print(metrics.accuracy_score(y_test, predicted))\n",
    "print(metrics.classification_report(y_test, predicted))\n",
    "\n",
    "cm = metrics.confusion_matrix(y_test,predicted)\n",
    "print(cm)\n",
    "\n",
    "print(metrics.f1_score(y_test, predicted))"
   ]
  },
  {
   "cell_type": "markdown",
   "metadata": {},
   "source": [
    "### Try with balanced class weight"
   ]
  },
  {
   "cell_type": "code",
   "execution_count": 24,
   "metadata": {},
   "outputs": [
    {
     "name": "stdout",
     "output_type": "stream",
     "text": [
      "[LibSVM]"
     ]
    },
    {
     "data": {
      "text/plain": [
       "SVC(class_weight='balanced', verbose=True)"
      ]
     },
     "execution_count": 24,
     "metadata": {},
     "output_type": "execute_result"
    }
   ],
   "source": [
    "games_added = 5.889 - 1\n",
    "\n",
    "y = injs['Was_Injured']\n",
    "X = injs[['Age', 'MP_Av14', '3P_Av14', '3PA_Av14', 'FTA_Av14', 'DRB_Av14',\n",
    "       'MP_Av21', 'FTA_Av21', 'FT_per_Av21', 'DRB_Av21', 'FTA_b2b',\n",
    "       'FT_per_b2b', 'N_prev_injs', 'W_Av_7', 'L_Av_7', 'Dist_Miles_Off_Av_7',\n",
    "       'W_Av_14', 'L_Av_14', 'Dist_Miles_Def_Av_14', 'Avg_Speed_Off_Av_14',\n",
    "       'L_Av_21', 'Dist_Miles_Av_21', 'Dist_Miles_Def_Av_21',\n",
    "       'Avg_Speed_Off_Av_21']]\n",
    "\n",
    "X_train, X_test, y_train, y_test = train_test_split(X, y, test_size=0.25)\n",
    "scaler = sklearn.preprocessing.StandardScaler().fit(X_train)\n",
    "X_train = scaler.transform(X_train)\n",
    "X_test = scaler.transform(X_test)\n",
    "\n",
    "clf = SVC(verbose=True,kernel='rbf',class_weight='balanced')\n",
    "clf.fit(X_train,y_train)"
   ]
  },
  {
   "cell_type": "code",
   "execution_count": 25,
   "metadata": {},
   "outputs": [],
   "source": [
    "predicted = clf.predict(X_test)"
   ]
  },
  {
   "cell_type": "code",
   "execution_count": 26,
   "metadata": {},
   "outputs": [
    {
     "name": "stdout",
     "output_type": "stream",
     "text": [
      "0.6855837441385115\n",
      "              precision    recall  f1-score   support\n",
      "\n",
      "         0.0       0.98      0.69      0.81     32306\n",
      "         1.0       0.04      0.46      0.08       962\n",
      "\n",
      "    accuracy                           0.69     33268\n",
      "   macro avg       0.51      0.58      0.44     33268\n",
      "weighted avg       0.95      0.69      0.79     33268\n",
      "\n",
      "[[22366  9940]\n",
      " [  520   442]]\n",
      "0.07792665726375177\n"
     ]
    }
   ],
   "source": [
    "print(metrics.accuracy_score(y_test, predicted))\n",
    "print(metrics.classification_report(y_test, predicted))\n",
    "\n",
    "cm = metrics.confusion_matrix(y_test,predicted)\n",
    "print(cm)\n",
    "\n",
    "print(metrics.f1_score(y_test, predicted))"
   ]
  },
  {
   "cell_type": "markdown",
   "metadata": {},
   "source": [
    "### Try with balanced class weight"
   ]
  },
  {
   "cell_type": "code",
   "execution_count": 30,
   "metadata": {},
   "outputs": [
    {
     "name": "stdout",
     "output_type": "stream",
     "text": [
      "[LibSVM]"
     ]
    },
    {
     "data": {
      "text/plain": [
       "SVC(C=1000.0, class_weight='balanced', verbose=True)"
      ]
     },
     "execution_count": 30,
     "metadata": {},
     "output_type": "execute_result"
    }
   ],
   "source": [
    "games_added = 5.889 - 1\n",
    "\n",
    "y = injs['Was_Injured']\n",
    "X = injs[['Age', 'MP_Av14', '3P_Av14', '3PA_Av14', 'FTA_Av14', 'DRB_Av14',\n",
    "       'MP_Av21', 'FTA_Av21', 'FT_per_Av21', 'DRB_Av21', 'FTA_b2b',\n",
    "       'FT_per_b2b', 'N_prev_injs', 'W_Av_7', 'L_Av_7', 'Dist_Miles_Off_Av_7',\n",
    "       'W_Av_14', 'L_Av_14', 'Dist_Miles_Def_Av_14', 'Avg_Speed_Off_Av_14',\n",
    "       'L_Av_21', 'Dist_Miles_Av_21', 'Dist_Miles_Def_Av_21',\n",
    "       'Avg_Speed_Off_Av_21']]\n",
    "\n",
    "X_train, X_test, y_train, y_test = train_test_split(X, y, test_size=0.25)\n",
    "scaler = sklearn.preprocessing.StandardScaler().fit(X_train)\n",
    "X_train = scaler.transform(X_train)\n",
    "X_test = scaler.transform(X_test)\n",
    "\n",
    "clf = SVC(verbose=True,kernel='rbf',class_weight='balanced',C=1e3)\n",
    "clf.fit(X_train,y_train)"
   ]
  },
  {
   "cell_type": "code",
   "execution_count": 31,
   "metadata": {},
   "outputs": [],
   "source": [
    "predicted = clf.predict(X_test)"
   ]
  },
  {
   "cell_type": "code",
   "execution_count": 32,
   "metadata": {},
   "outputs": [
    {
     "name": "stdout",
     "output_type": "stream",
     "text": [
      "0.915203799446916\n",
      "              precision    recall  f1-score   support\n",
      "\n",
      "         0.0       0.97      0.94      0.96     32292\n",
      "         1.0       0.04      0.07      0.05       976\n",
      "\n",
      "    accuracy                           0.92     33268\n",
      "   macro avg       0.50      0.51      0.50     33268\n",
      "weighted avg       0.94      0.92      0.93     33268\n",
      "\n",
      "[[30375  1917]\n",
      " [  904    72]]\n",
      "0.04856661045531197\n"
     ]
    }
   ],
   "source": [
    "print(metrics.accuracy_score(y_test, predicted))\n",
    "print(metrics.classification_report(y_test, predicted))\n",
    "\n",
    "cm = metrics.confusion_matrix(y_test,predicted)\n",
    "print(cm)\n",
    "\n",
    "print(metrics.f1_score(y_test, predicted))"
   ]
  },
  {
   "cell_type": "code",
   "execution_count": null,
   "metadata": {},
   "outputs": [],
   "source": []
  }
 ],
 "metadata": {
  "kernelspec": {
   "display_name": "Python 3",
   "language": "python",
   "name": "python3"
  },
  "language_info": {
   "codemirror_mode": {
    "name": "ipython",
    "version": 3
   },
   "file_extension": ".py",
   "mimetype": "text/x-python",
   "name": "python",
   "nbconvert_exporter": "python",
   "pygments_lexer": "ipython3",
   "version": "3.7.3"
  }
 },
 "nbformat": 4,
 "nbformat_minor": 2
}
